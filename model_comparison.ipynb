{
  "cells": [
    {
      "cell_type": "markdown",
      "metadata": {
        "id": "EZSu6oxbhEkE"
      },
      "source": [
        "# Лабораторная работа 3. Сравнение альтернатив"
      ]
    },
    {
      "cell_type": "markdown",
      "metadata": {
        "id": "275LGNLlhEkP"
      },
      "source": [
        "## Импорт библиотек и настройки"
      ]
    },
    {
      "cell_type": "code",
      "execution_count": null,
      "metadata": {
        "id": "rXXivKyhhEkR"
      },
      "outputs": [],
      "source": [
        "import os # библиотека для работы с операционной системой\n",
        "\n",
        "import numpy as np  # библиотека для поддержки больших многомерных массивов и матриц\n",
        "import pandas as pd  # библиотека для обработки данных в виде (таблиц) датафреймов\n",
        "\n",
        "import matplotlib.pyplot as plt # библиотка двумерной графики\n",
        "import seaborn as sns # библиотка для визуалицаии данных\n",
        "# функция, которая позволяет отображать графики matplotlib непосредственно в ячейке, где они были сделаны\n",
        "%matplotlib inline \n",
        "import warnings  # библиотека для работы с предупреждениями\n",
        "warnings.filterwarnings(\"ignore\", category=DeprecationWarning)\n",
        "warnings.filterwarnings(\"ignore\", category=UserWarning)\n",
        "warnings.filterwarnings(\"ignore\", category=FutureWarning)"
      ]
    },
    {
      "cell_type": "markdown",
      "metadata": {
        "id": "hmHGjLRdhEkX"
      },
      "source": [
        "Зададим пути для входных данных и сохранения результатов"
      ]
    },
    {
      "cell_type": "code",
      "execution_count": null,
      "metadata": {
        "id": "ITionTiEhEkY"
      },
      "outputs": [],
      "source": [
        "inputPath = \"../0. data/\" # Введите путь до каталога с входными данными\n",
        "outputPath = \"./output/\" # Введите путь до желаемого каталога с результатами\n",
        "if not os.path.exists(outputPath): # Проверка существования папки с результатами\n",
        "    os.makedirs(outputPath)     # Создание папки с результатами,  в случае если ее не существует"
      ]
    },
    {
      "cell_type": "markdown",
      "metadata": {
        "id": "bLG3UNC1hEkZ"
      },
      "source": [
        "## Чтение и подготовка данных"
      ]
    },
    {
      "cell_type": "markdown",
      "metadata": {
        "id": "5akrCwf8hEka"
      },
      "source": [
        "Считаем данные и выведем первые несколько строк таблицы"
      ]
    },
    {
      "cell_type": "code",
      "execution_count": null,
      "metadata": {
        "id": "B8quNk9-hEkb",
        "outputId": "f057d97b-661e-4a47-d9ea-5204169b105c"
      },
      "outputs": [
        {
          "data": {
            "text/html": [
              "<div>\n",
              "<style scoped>\n",
              "    .dataframe tbody tr th:only-of-type {\n",
              "        vertical-align: middle;\n",
              "    }\n",
              "\n",
              "    .dataframe tbody tr th {\n",
              "        vertical-align: top;\n",
              "    }\n",
              "\n",
              "    .dataframe thead th {\n",
              "        text-align: right;\n",
              "    }\n",
              "</style>\n",
              "<table border=\"1\" class=\"dataframe\">\n",
              "  <thead>\n",
              "    <tr style=\"text-align: right;\">\n",
              "      <th></th>\n",
              "      <th>woe_max_arrears_12m</th>\n",
              "      <th>woe_bureau_score</th>\n",
              "      <th>woe_cc_util</th>\n",
              "      <th>woe_num_ccj</th>\n",
              "      <th>woe_emp_length</th>\n",
              "      <th>woe_months_since_recent_cc_delinq</th>\n",
              "      <th>woe_annual_income</th>\n",
              "      <th>default_flag</th>\n",
              "    </tr>\n",
              "  </thead>\n",
              "  <tbody>\n",
              "    <tr>\n",
              "      <th>0</th>\n",
              "      <td>0.675750</td>\n",
              "      <td>1.034578</td>\n",
              "      <td>1.852935</td>\n",
              "      <td>0.177302</td>\n",
              "      <td>-0.369946</td>\n",
              "      <td>-0.192033</td>\n",
              "      <td>0.586514</td>\n",
              "      <td>0</td>\n",
              "    </tr>\n",
              "    <tr>\n",
              "      <th>1</th>\n",
              "      <td>0.675750</td>\n",
              "      <td>0.770801</td>\n",
              "      <td>-0.470497</td>\n",
              "      <td>0.177302</td>\n",
              "      <td>0.559709</td>\n",
              "      <td>-0.192033</td>\n",
              "      <td>0.586514</td>\n",
              "      <td>0</td>\n",
              "    </tr>\n",
              "    <tr>\n",
              "      <th>2</th>\n",
              "      <td>-2.213109</td>\n",
              "      <td>-0.790017</td>\n",
              "      <td>-0.470497</td>\n",
              "      <td>-0.864667</td>\n",
              "      <td>-0.369946</td>\n",
              "      <td>-0.431236</td>\n",
              "      <td>-1.796272</td>\n",
              "      <td>1</td>\n",
              "    </tr>\n",
              "    <tr>\n",
              "      <th>3</th>\n",
              "      <td>0.675750</td>\n",
              "      <td>0.770801</td>\n",
              "      <td>1.852935</td>\n",
              "      <td>0.177302</td>\n",
              "      <td>0.559709</td>\n",
              "      <td>-0.431236</td>\n",
              "      <td>0.246794</td>\n",
              "      <td>0</td>\n",
              "    </tr>\n",
              "    <tr>\n",
              "      <th>4</th>\n",
              "      <td>0.675750</td>\n",
              "      <td>0.770801</td>\n",
              "      <td>-2.323441</td>\n",
              "      <td>0.177302</td>\n",
              "      <td>0.559709</td>\n",
              "      <td>-0.431236</td>\n",
              "      <td>0.586514</td>\n",
              "      <td>0</td>\n",
              "    </tr>\n",
              "    <tr>\n",
              "      <th>5</th>\n",
              "      <td>0.675750</td>\n",
              "      <td>0.770801</td>\n",
              "      <td>-0.470497</td>\n",
              "      <td>0.177302</td>\n",
              "      <td>-0.369946</td>\n",
              "      <td>-0.431236</td>\n",
              "      <td>0.246794</td>\n",
              "      <td>1</td>\n",
              "    </tr>\n",
              "    <tr>\n",
              "      <th>6</th>\n",
              "      <td>0.675750</td>\n",
              "      <td>1.034578</td>\n",
              "      <td>1.852935</td>\n",
              "      <td>0.177302</td>\n",
              "      <td>0.559709</td>\n",
              "      <td>1.353357</td>\n",
              "      <td>0.586514</td>\n",
              "      <td>0</td>\n",
              "    </tr>\n",
              "    <tr>\n",
              "      <th>7</th>\n",
              "      <td>0.675750</td>\n",
              "      <td>1.034578</td>\n",
              "      <td>-0.470497</td>\n",
              "      <td>0.177302</td>\n",
              "      <td>0.184187</td>\n",
              "      <td>-0.431236</td>\n",
              "      <td>0.586514</td>\n",
              "      <td>0</td>\n",
              "    </tr>\n",
              "    <tr>\n",
              "      <th>8</th>\n",
              "      <td>0.675750</td>\n",
              "      <td>-0.790017</td>\n",
              "      <td>1.852935</td>\n",
              "      <td>0.177302</td>\n",
              "      <td>-0.727325</td>\n",
              "      <td>1.353357</td>\n",
              "      <td>-0.820765</td>\n",
              "      <td>0</td>\n",
              "    </tr>\n",
              "    <tr>\n",
              "      <th>9</th>\n",
              "      <td>-2.213109</td>\n",
              "      <td>-0.068048</td>\n",
              "      <td>1.852935</td>\n",
              "      <td>0.177302</td>\n",
              "      <td>0.559709</td>\n",
              "      <td>-0.192033</td>\n",
              "      <td>0.246794</td>\n",
              "      <td>0</td>\n",
              "    </tr>\n",
              "  </tbody>\n",
              "</table>\n",
              "</div>"
            ],
            "text/plain": [
              "   woe_max_arrears_12m  woe_bureau_score  woe_cc_util  woe_num_ccj  \\\n",
              "0             0.675750          1.034578     1.852935     0.177302   \n",
              "1             0.675750          0.770801    -0.470497     0.177302   \n",
              "2            -2.213109         -0.790017    -0.470497    -0.864667   \n",
              "3             0.675750          0.770801     1.852935     0.177302   \n",
              "4             0.675750          0.770801    -2.323441     0.177302   \n",
              "5             0.675750          0.770801    -0.470497     0.177302   \n",
              "6             0.675750          1.034578     1.852935     0.177302   \n",
              "7             0.675750          1.034578    -0.470497     0.177302   \n",
              "8             0.675750         -0.790017     1.852935     0.177302   \n",
              "9            -2.213109         -0.068048     1.852935     0.177302   \n",
              "\n",
              "   woe_emp_length  woe_months_since_recent_cc_delinq  woe_annual_income  \\\n",
              "0       -0.369946                          -0.192033           0.586514   \n",
              "1        0.559709                          -0.192033           0.586514   \n",
              "2       -0.369946                          -0.431236          -1.796272   \n",
              "3        0.559709                          -0.431236           0.246794   \n",
              "4        0.559709                          -0.431236           0.586514   \n",
              "5       -0.369946                          -0.431236           0.246794   \n",
              "6        0.559709                           1.353357           0.586514   \n",
              "7        0.184187                          -0.431236           0.586514   \n",
              "8       -0.727325                           1.353357          -0.820765   \n",
              "9        0.559709                          -0.192033           0.246794   \n",
              "\n",
              "   default_flag  \n",
              "0             0  \n",
              "1             0  \n",
              "2             1  \n",
              "3             0  \n",
              "4             0  \n",
              "5             1  \n",
              "6             0  \n",
              "7             0  \n",
              "8             0  \n",
              "9             0  "
            ]
          },
          "execution_count": 50,
          "metadata": {},
          "output_type": "execute_result"
        }
      ],
      "source": [
        "data_pd = pd.read_csv('ModelData.csv', index_col=0)\n",
        "data_pd.head(10)"
      ]
    },
    {
      "cell_type": "markdown",
      "metadata": {
        "id": "7FKIuZQnhEke"
      },
      "source": [
        "## Построение моделей"
      ]
    },
    {
      "cell_type": "markdown",
      "metadata": {
        "id": "8d19ji8AhEkf"
      },
      "source": [
        "Разделим выборку на тестовую и тренировочную"
      ]
    },
    {
      "cell_type": "code",
      "execution_count": null,
      "metadata": {
        "id": "_nMqHaSUhEkg"
      },
      "outputs": [],
      "source": [
        "#имортируем функцию, позволяющую делить выборку на тестовую и тренировочную в случайном порядке:\n",
        "from sklearn.model_selection import train_test_split \n",
        "\n",
        "#Аргументы функции:\n",
        "# X-датафрейм независимых переменных\n",
        "# y - зависимая переменная\n",
        "# test_size - размер тестовой выборки в %\n",
        "# random_state - начальная точка генератора случайных чисел. Для воспроизведения результата необходимо указать любое число.\n",
        "\n",
        "# Результат работы функции:\n",
        "# X_train - датафрейм независимых переменных тренировочная выборка\n",
        "# X_test - датафрейм независимых переменных тестовая выборка\n",
        "# y_train - зависимая переменная тренировочная выборка\n",
        "# y_test - зависимая переменная тестовая выборка"
      ]
    },
    {
      "cell_type": "code",
      "execution_count": null,
      "metadata": {
        "id": "5LPOtTH0hEki"
      },
      "outputs": [],
      "source": [
        "#Разделим выборку на тестовую и тренировочную\n",
        "X_train, X_test, y_train, y_test = train_test_split(data_pd.drop('default_flag', axis=1), \n",
        "                                                    data_pd['default_flag'], test_size=.3, \n",
        "                                                    random_state=2122)\n",
        "train_full = pd.concat([y_train, X_train], axis=1) # объединим независимые и зависимую пременные тренировочной выборки в общий датафрейм\n",
        "test_full = pd.concat([y_test, X_test], axis=1)# объединим независимые и зависимую пременные тестовой выборки в общий датафрейм\n"
      ]
    },
    {
      "cell_type": "markdown",
      "metadata": {
        "id": "MhkYIlkQhEkj"
      },
      "source": [
        "### 1. Метод k-ближайших соседей (K-Nearest Neighbors)"
      ]
    },
    {
      "cell_type": "code",
      "execution_count": null,
      "metadata": {
        "id": "zPzFqieChEkk"
      },
      "outputs": [],
      "source": [
        "from sklearn.neighbors import KNeighborsClassifier # импортируем необходимый класс изи библиотеки sklearn"
      ]
    },
    {
      "cell_type": "markdown",
      "metadata": {
        "id": "R7MORGsjhEkl"
      },
      "source": [
        "Обучаем классификатор"
      ]
    },
    {
      "cell_type": "code",
      "execution_count": null,
      "metadata": {
        "id": "1-gt1zjvhEkm",
        "outputId": "4306b9e4-ef4f-44cd-801f-9d70285728fd"
      },
      "outputs": [
        {
          "data": {
            "text/plain": [
              "KNeighborsClassifier()"
            ]
          },
          "execution_count": 54,
          "metadata": {},
          "output_type": "execute_result"
        }
      ],
      "source": [
        "clf_kBest = KNeighborsClassifier(n_neighbors=5) # создадим модель 5ти ближайших соседей\n",
        "clf_kBest.fit(X_train, y_train)  # оценим параметры модели"
      ]
    },
    {
      "cell_type": "markdown",
      "metadata": {
        "id": "37YFl-79hEkn"
      },
      "source": [
        "Получим прогноз"
      ]
    },
    {
      "cell_type": "code",
      "execution_count": null,
      "metadata": {
        "id": "jg7lAFQphEkn"
      },
      "outputs": [],
      "source": [
        "y_pred_kBest = clf_kBest.predict(X_test)  # прогноз отношения к классу 0 или 1\n",
        "y_pred_kBest_proba = clf_kBest.predict_proba(X_test)[:, 1]  # прогнозные вероятности отношения к классу 0 и 1"
      ]
    },
    {
      "cell_type": "markdown",
      "metadata": {
        "id": "h0bfDJ0-hEko"
      },
      "source": [
        "### 2. Метод градиентного бустинга (GradientBoostingClassifier)"
      ]
    },
    {
      "cell_type": "markdown",
      "metadata": {
        "id": "oPipebeOhEkp"
      },
      "source": [
        "Построим модель GradientBoostingClassifier"
      ]
    },
    {
      "cell_type": "code",
      "execution_count": null,
      "metadata": {
        "id": "BBInLR0LhEkp"
      },
      "outputs": [],
      "source": [
        "from sklearn.ensemble import GradientBoostingClassifier # импортируем необходимый класс из библиотеки sklearn.ensemble"
      ]
    },
    {
      "cell_type": "markdown",
      "metadata": {
        "id": "POuY7-GlhEkq"
      },
      "source": [
        "Обучаем классификатор"
      ]
    },
    {
      "cell_type": "code",
      "execution_count": null,
      "metadata": {
        "id": "5kTCWXc5hEkr"
      },
      "outputs": [],
      "source": [
        "clf_gbst = GradientBoostingClassifier(random_state=42) # создадим модель градиентного бустинга с параметрами:\n",
        "#random_state=42 зададим random_state для воспроизведения результатов\n",
        "clf_gbst = clf_gbst.fit(X_train, y_train) # оценим параметры модели"
      ]
    },
    {
      "cell_type": "markdown",
      "metadata": {
        "id": "aQn_dh4-hEks"
      },
      "source": [
        "Получим прогноз"
      ]
    },
    {
      "cell_type": "code",
      "execution_count": null,
      "metadata": {
        "id": "0IZTKV_lhEks"
      },
      "outputs": [],
      "source": [
        "y_pred_gbst = clf_gbst.predict(X_test)  # прогноз отношения к классу 0 или 1\n",
        "y_pred_gbst_proba = clf_gbst.predict_proba(X_test)[:, 1]  # прогнозные вероятности отношения к классу 0 и 1"
      ]
    },
    {
      "cell_type": "markdown",
      "metadata": {
        "id": "NSsDyBR5hEkt"
      },
      "source": [
        "### 3. Случайный лес (Random Forests);"
      ]
    },
    {
      "cell_type": "markdown",
      "metadata": {
        "id": "7_J1qg0lhEkt"
      },
      "source": [
        "Построим модель GradientBoostingClassifier"
      ]
    },
    {
      "cell_type": "code",
      "execution_count": null,
      "metadata": {
        "id": "c0bVb1qahEku"
      },
      "outputs": [],
      "source": [
        "from sklearn.ensemble import RandomForestClassifier # импортируем необходимый класс изи библиотеки sklearn.ensemble"
      ]
    },
    {
      "cell_type": "markdown",
      "metadata": {
        "id": "AjT0bKz2hEkv"
      },
      "source": [
        "Обучаем классификатор"
      ]
    },
    {
      "cell_type": "code",
      "execution_count": null,
      "metadata": {
        "id": "dFxhcyUDhEkv"
      },
      "outputs": [],
      "source": [
        "clf_rndForest = RandomForestClassifier(random_state=42, n_estimators=151) # создадим модель градиентного бустинга с параметрами:\n",
        "#random_state=42 зададим random_state для воспроизведения результатов\n",
        "clf_rndForest = clf_rndForest.fit(X_train, y_train) # оценим параметры модели"
      ]
    },
    {
      "cell_type": "markdown",
      "metadata": {
        "id": "wwzQJrWMhEkw"
      },
      "source": [
        "Получим прогноз"
      ]
    },
    {
      "cell_type": "code",
      "execution_count": null,
      "metadata": {
        "id": "Hu4zuGX7hEkw"
      },
      "outputs": [],
      "source": [
        "y_pred_rndForest = clf_rndForest.predict(X_test)  # прогноз отношения к классу 0 или 1\n",
        "y_pred_rndForest_proba = clf_rndForest.predict_proba(X_test)[:, 1]  # прогнозные вероятности отношения к классу 0 и 1"
      ]
    },
    {
      "cell_type": "markdown",
      "metadata": {
        "id": "Leg0g8O9hEkx"
      },
      "source": [
        "### 4. Метод опорных векторов (Support Vector Machines);"
      ]
    },
    {
      "cell_type": "code",
      "execution_count": null,
      "metadata": {
        "id": "dRwG1Z33hEky"
      },
      "outputs": [],
      "source": [
        "from sklearn.svm import SVC  # импортируем необходимый класс изи библиотеки sklearn"
      ]
    },
    {
      "cell_type": "markdown",
      "metadata": {
        "id": "rZLRyuwThEky"
      },
      "source": [
        "Обучаем классификатор"
      ]
    },
    {
      "cell_type": "code",
      "execution_count": null,
      "metadata": {
        "id": "DDsjc3NuhEkz",
        "outputId": "0d664b69-0808-4e95-c3ce-edc07e310524"
      },
      "outputs": [
        {
          "data": {
            "text/plain": [
              "SVC(probability=True)"
            ]
          },
          "execution_count": 63,
          "metadata": {},
          "output_type": "execute_result"
        }
      ],
      "source": [
        "clf_svc = SVC(probability=True) # создадим модельопорных векторов, с возможностью получить прогнозные вероятности (probability=True)\n",
        "clf_svc.fit(X_train, y_train) # оценим параметры модели"
      ]
    },
    {
      "cell_type": "markdown",
      "metadata": {
        "id": "yiwYnSichEkz"
      },
      "source": [
        "Получим прогноз"
      ]
    },
    {
      "cell_type": "code",
      "execution_count": null,
      "metadata": {
        "id": "iLTKXNbChEk0"
      },
      "outputs": [],
      "source": [
        "y_pred_svc = clf_svc.predict(X_test)  # прогноз отношения к классу 0 или 1\n",
        "y_pred_svc_proba = clf_svc.predict_proba(X_test)[:, 1]  # прогнозные вероятности отношения к классу 0 и 1"
      ]
    },
    {
      "cell_type": "markdown",
      "metadata": {
        "id": "t9trVUNDhEk0"
      },
      "source": [
        "## Сравнение качества моделей"
      ]
    },
    {
      "cell_type": "markdown",
      "metadata": {
        "id": "ZC-7Y6NshEk1"
      },
      "source": [
        "\n",
        "Импортируем необходимые библиотеки для оценки производительности модели"
      ]
    },
    {
      "cell_type": "code",
      "execution_count": null,
      "metadata": {
        "id": "tkCKZ-bFhEk1"
      },
      "outputs": [],
      "source": [
        "from sklearn.metrics import roc_auc_score, accuracy_score # Функция для рассчета AUROC\n",
        "from sklearn.metrics import roc_curve # Функция для построения ROC-кривой\n",
        "from sklearn.metrics import confusion_matrix  # функция расчета матрицы ошибок\n",
        "from sklearn.metrics import classification_report # функция для расчета метрик качества классификации\n",
        "from sklearn.metrics import plot_confusion_matrix # функция для визуализации матрицы ошибок"
      ]
    },
    {
      "cell_type": "code",
      "execution_count": null,
      "metadata": {
        "id": "agtnU6yFhEk2",
        "outputId": "77f54816-5dc7-4dac-aaea-3eab161d588b"
      },
      "outputs": [
        {
          "data": {
            "image/png": "[encoded data removed]",
            "text/plain": [
              "<Figure size 432x288 with 2 Axes>"
            ]
          },
          "metadata": {
            "needs_background": "light"
          },
          "output_type": "display_data"
        },
        {
          "name": "stdout",
          "output_type": "stream",
          "text": [
            "\n",
            "\n"
          ]
        },
        {
          "data": {
            "image/png": "[encoded data removed]",
            "text/plain": [
              "<Figure size 432x288 with 2 Axes>"
            ]
          },
          "metadata": {
            "needs_background": "light"
          },
          "output_type": "display_data"
        },
        {
          "name": "stdout",
          "output_type": "stream",
          "text": [
            "\n",
            "\n"
          ]
        },
        {
          "data": {
            "image/png": "[encoded data removed]",
            "text/plain": [
              "<Figure size 432x288 with 2 Axes>"
            ]
          },
          "metadata": {
            "needs_background": "light"
          },
          "output_type": "display_data"
        },
        {
          "name": "stdout",
          "output_type": "stream",
          "text": [
            "\n",
            "\n"
          ]
        },
        {
          "data": {
            "image/png": "[encoded data removed]",
            "text/plain": [
              "<Figure size 432x288 with 2 Axes>"
            ]
          },
          "metadata": {
            "needs_background": "light"
          },
          "output_type": "display_data"
        },
        {
          "name": "stdout",
          "output_type": "stream",
          "text": [
            "\n",
            "\n"
          ]
        }
      ],
      "source": [
        "# лист моделей классификации:\n",
        "clfs = [clf_kBest, clf_gbst, clf_rndForest, clf_svc]\n",
        "\n",
        "for clf in clfs: # цикл для каждого классификатора\n",
        "    matrix = plot_confusion_matrix(clf, X_test, y_test, cmap=plt.cm.Blues) # нарисуем матрицу ошибок\n",
        "    plt.title(clf) # зададим название графика\n",
        "    plt.show(matrix) # отобразим график\n",
        "    print('\\n')# перенос строки\n"
      ]
    },
    {
      "cell_type": "markdown",
      "metadata": {
        "id": "RahvWPyFhEk3"
      },
      "source": [
        "### Метрики качества классификации"
      ]
    },
    {
      "cell_type": "code",
      "execution_count": null,
      "metadata": {
        "id": "8h0xs4PwhEk3",
        "outputId": "8abae651-0c48-459a-9530-ee555d616fc7"
      },
      "outputs": [
        {
          "name": "stdout",
          "output_type": "stream",
          "text": [
            "\n",
            "Метрики качества модели градиентного бустинга: KNeighborsClassifier() \n",
            "\n",
            "              precision    recall  f1-score   support\n",
            "\n",
            "           0       0.96      0.98      0.97      7246\n",
            "           1       0.52      0.32      0.40       394\n",
            "\n",
            "    accuracy                           0.95      7640\n",
            "   macro avg       0.74      0.65      0.68      7640\n",
            "weighted avg       0.94      0.95      0.94      7640\n",
            "\n",
            "\n",
            "Метрики качества модели градиентного бустинга: GradientBoostingClassifier(random_state=42) \n",
            "\n",
            "              precision    recall  f1-score   support\n",
            "\n",
            "           0       0.96      0.99      0.98      7246\n",
            "           1       0.62      0.31      0.42       394\n",
            "\n",
            "    accuracy                           0.95      7640\n",
            "   macro avg       0.79      0.65      0.70      7640\n",
            "weighted avg       0.95      0.95      0.95      7640\n",
            "\n",
            "\n",
            "Метрики качества модели градиентного бустинга: RandomForestClassifier(n_estimators=151, random_state=42) \n",
            "\n",
            "              precision    recall  f1-score   support\n",
            "\n",
            "           0       0.96      0.99      0.97      7246\n",
            "           1       0.53      0.29      0.37       394\n",
            "\n",
            "    accuracy                           0.95      7640\n",
            "   macro avg       0.74      0.64      0.67      7640\n",
            "weighted avg       0.94      0.95      0.94      7640\n",
            "\n",
            "\n",
            "Метрики качества модели градиентного бустинга: SVC(probability=True) \n",
            "\n",
            "              precision    recall  f1-score   support\n",
            "\n",
            "           0       0.96      0.99      0.98      7246\n",
            "           1       0.66      0.26      0.37       394\n",
            "\n",
            "    accuracy                           0.95      7640\n",
            "   macro avg       0.81      0.62      0.67      7640\n",
            "weighted avg       0.95      0.95      0.95      7640\n",
            "\n"
          ]
        }
      ],
      "source": [
        "# лист прогноза отношения к классу 0 или 1 для каждого классификатора:\n",
        "y_preds = [y_pred_kBest, y_pred_gbst, y_pred_rndForest, y_pred_svc] \n",
        "\n",
        "for i in range(len(y_preds)): #цикл для каждого классификатора\n",
        "    print('\\nМетрики качества модели градиентного бустинга:',clfs[i], '\\n')\n",
        "    print(classification_report(y_test, y_preds[i]))  # выведем рассчитанные метрики качества\n"
      ]
    },
    {
      "cell_type": "markdown",
      "metadata": {
        "id": "CBIAkxL9hEk4"
      },
      "source": [
        "### ROC-кривая и Коэффициент Джини"
      ]
    },
    {
      "cell_type": "code",
      "execution_count": null,
      "metadata": {
        "id": "egUrWpyshEk4",
        "outputId": "184e39ee-88f3-4ec4-df72-061ade22cc67"
      },
      "outputs": [
        {
          "name": "stdout",
          "output_type": "stream",
          "text": [
            "Коэффициент Джини для KNeighborsClassifier() : 0.55\n",
            "AUROC для KNeighborsClassifier() : 0.78 \n",
            "\n",
            "Коэффициент Джини для GradientBoostingClassifier(random_state=42) : 0.84\n",
            "AUROC для GradientBoostingClassifier(random_state=42) : 0.92 \n",
            "\n",
            "Коэффициент Джини для RandomForestClassifier(n_estimators=151, random_state=42) : 0.67\n",
            "AUROC для RandomForestClassifier(n_estimators=151, random_state=42) : 0.84 \n",
            "\n",
            "Коэффициент Джини для SVC(probability=True) : 0.38\n",
            "AUROC для SVC(probability=True) : 0.69 \n",
            "\n"
          ]
        },
        {
          "data": {
            "image/png": "[encoded data removed]",
            "text/plain": [
              "<Figure size 432x288 with 1 Axes>"
            ]
          },
          "metadata": {
            "needs_background": "light"
          },
          "output_type": "display_data"
        }
      ],
      "source": [
        "# лист из прогнозных вероятностей для каждого классификатора:\n",
        "y_pred_probas = [y_pred_kBest_proba, y_pred_gbst_proba, y_pred_rndForest_proba, y_pred_svc_proba] \n",
        "\n",
        "\n",
        "plt.figure() # Создадим график\n",
        "plt.plot([0, 1], [0, 1],'r--') # отобразим на графике ROC-кривую для случайной модели\n",
        "\n",
        "for i in range(len(y_pred_probas)): # цикл для каждого классификатора\n",
        "    roc_auc = roc_auc_score(y_test, y_pred_probas[i]) # Расчет AUROC. На вход подаются наблюдаемые значения тестовой выборки и прогнозные\n",
        "    fpr, tpr, thresholds = roc_curve(y_test, y_pred_probas[i]) # Построение ROC- кривой\n",
        "\n",
        "    plt.plot(fpr, tpr, label= clfs[i]) #отобразим на графике ROC-кривую и значение AUROC\n",
        "    print('Коэффициент Джини для', clfs[i],':', round(2 * roc_auc - 1,2)) # посчитаем и выведем значение коэффициента Джини для каждого классификатора\n",
        "    print('AUROC для', clfs[i],':', round(roc_auc,2),'\\n') # посчитаем и выведем значение коэффициента Джини для каждого классификатора\n",
        "   \n",
        "    \n",
        "plt.xlabel('False Positive Rate') # название оси х\n",
        "plt.ylabel('True Positive Rate') # название оси y\n",
        "plt.title('ROC кривая')# название графика\n",
        "plt.legend(loc=\"lower right\") # расположение легенды\n",
        "plt.savefig('Log_ROC') # сохранить график\n",
        "plt.show(); # отобразитьграфик"
      ]
    },
    {
      "cell_type": "markdown",
      "metadata": {
        "id": "jO62HJJShEk6"
      },
      "source": [
        "## Задание"
      ]
    },
    {
      "cell_type": "markdown",
      "metadata": {
        "id": "jxILTT37hEk6"
      },
      "source": [
        "1.\tИзучите пошаговую процедуру построения классификаторов, реализованную в рабочей книге Python Notebook «3.Сравнение альтернатив».\n",
        "2.\tСравните ключевые метрики качества для полученных моделей. Какую модель следует выбрать?\n",
        "3.\tПопробуйте улучшить качества моделей, оптимизировав параметры классификаторов."
      ]
    },
    {
      "cell_type": "markdown",
      "metadata": {
        "id": "ZR9_wAx7hEk7"
      },
      "source": [
        "# Поиск гиперпараметров"
      ]
    },
    {
      "cell_type": "markdown",
      "metadata": {
        "id": "F_6sTqpChEk7"
      },
      "source": [
        "## 3. Случайный лес (Random Forests);"
      ]
    },
    {
      "cell_type": "markdown",
      "metadata": {
        "id": "gt_0GdfThEk8"
      },
      "source": [
        "Реализацию случайного поиска гиперпараметра можно, сначала определив сетку гиперпараметров, которые будут случайным образом выбираться при вызове.RandomizedSearchCV (), Для этого примера я решил разделить наш тренировочный набор на 4 раза (cv = 4) и выберите 80 в качестве количества комбинаций для выборки (n_iter = 80). Использование scikit-learnbest_estimator_атрибут, мы можем затем получить набор гиперпараметров, которые лучше всего работали во время обучения, чтобы проверить нашу модель."
      ]
    },
    {
      "cell_type": "code",
      "execution_count": null,
      "metadata": {
        "id": "eKdh3DKuhEk8",
        "outputId": "c468940c-92d0-4c6a-dee0-50aab77c4901"
      },
      "outputs": [
        {
          "name": "stdout",
          "output_type": "stream",
          "text": [
            "Fitting 4 folds for each of 80 candidates, totalling 320 fits\n"
          ]
        },
        {
          "data": {
            "text/plain": [
              "RandomizedSearchCV(cv=4, estimator=RandomForestClassifier(), n_iter=80,\n",
              "                   n_jobs=-1,\n",
              "                   param_distributions={'criterion': ['entropy', 'gini'],\n",
              "                                        'max_depth': [10, 142, 274, 406, 538,\n",
              "                                                      671, 803, 935, 1067, 1200,\n",
              "                                                      None],\n",
              "                                        'max_features': ['auto', 'sqrt', 'log2',\n",
              "                                                         None],\n",
              "                                        'min_samples_leaf': [4, 6, 8, 12],\n",
              "                                        'min_samples_split': [5, 7, 10, 14],\n",
              "                                        'n_estimators': [151, 267, 384, 500,\n",
              "                                                         617, 733, 850, 966,\n",
              "                                                         1083, 1200]},\n",
              "                   random_state=101, verbose=5)"
            ]
          },
          "execution_count": 69,
          "metadata": {},
          "output_type": "execute_result"
        }
      ],
      "source": [
        "import numpy as np \n",
        "from sklearn.model_selection import RandomizedSearchCV\n",
        "from sklearn.model_selection import cross_val_score\n",
        "\n",
        "random_search = {'criterion': ['entropy', 'gini'],\n",
        "               'max_depth': list(np.linspace(10, 1200, 10, dtype = int)) + [None],\n",
        "               'max_features': ['auto', 'sqrt','log2', None],\n",
        "               'min_samples_leaf': [4, 6, 8, 12],\n",
        "               'min_samples_split': [5, 7, 10, 14],\n",
        "               'n_estimators': list(np.linspace(151, 1200, 10, dtype = int))}\n",
        "\n",
        "clf = RandomForestClassifier()\n",
        "model = RandomizedSearchCV(estimator = clf, param_distributions = random_search, n_iter = 80, \n",
        "                               cv = 4, verbose= 5, random_state= 101, n_jobs = -1)\n",
        "model.fit(X_train, y_train)"
      ]
    },
    {
      "cell_type": "code",
      "execution_count": null,
      "metadata": {
        "id": "dPA5f8QshEk9",
        "outputId": "6a73515d-3e62-48f4-a965-2f7d02fa94ba"
      },
      "outputs": [
        {
          "data": {
            "text/plain": [
              "<AxesSubplot:xlabel='param_criterion', ylabel='param_n_estimators'>"
            ]
          },
          "execution_count": 70,
          "metadata": {},
          "output_type": "execute_result"
        },
        {
          "data": {
            "image/png": "[encoded data removed]",
            "text/plain": [
              "<Figure size 432x288 with 2 Axes>"
            ]
          },
          "metadata": {
            "needs_background": "light"
          },
          "output_type": "display_data"
        }
      ],
      "source": [
        "# визуализация, влияния гиперпараметров  на общую точность модели\n",
        "import seaborn as sns\n",
        "\n",
        "table = pd.pivot_table(pd.DataFrame(model.cv_results_),\n",
        "    values='mean_test_score', index='param_n_estimators', \n",
        "                       columns='param_criterion')\n",
        "     \n",
        "sns.heatmap(table)"
      ]
    },
    {
      "cell_type": "code",
      "execution_count": null,
      "metadata": {
        "id": "IGHcBu2YhEk-"
      },
      "outputs": [],
      "source": [
        "clf_rndForest_new = RandomForestClassifier(criterion = 'entropy',\n",
        "                                          max_depth= 538,\n",
        "                                          max_features= None,\n",
        "                                          min_samples_leaf= 14,\n",
        "                                          min_samples_split= 7,\n",
        "                                          n_estimators= 234) \n",
        "\n",
        "clf_rndForest_new = clf_rndForest_new.fit(X_train, y_train) # оценим параметры модели\n"
      ]
    },
    {
      "cell_type": "code",
      "execution_count": null,
      "metadata": {
        "id": "FlRueGfRhEk_"
      },
      "outputs": [],
      "source": [
        "y_pred_rndForest_new = clf_rndForest_new.predict(X_test)  # прогноз отношения к классу 0 или 1\n",
        "y_pred_rndForest_proba_new = clf_rndForest_new.predict_proba(X_test)[:, 1]  # прогнозные вероятности отношения к классу 0 и 1"
      ]
    },
    {
      "cell_type": "markdown",
      "metadata": {
        "id": "Q_Uq8_f-hEk_"
      },
      "source": [
        "### 1. Метод k-ближайших соседей (K-Nearest Neighbors)"
      ]
    },
    {
      "cell_type": "code",
      "execution_count": null,
      "metadata": {
        "id": "R182YNnfhElA"
      },
      "outputs": [],
      "source": []
    },
    {
      "cell_type": "markdown",
      "metadata": {
        "id": "DjiV6KSzhElA"
      },
      "source": [
        "В методе KNN выбор значения k очень важен. При маленьком значении k \"шум\" будет оказывать сильное воздействие на итоговый результат. Большое значение делает его затратным с точки зрения вычислений и противоречит основной идее KNN, что близкие точки могут иметь схожие плотности или классы. Значение по умолчанию для количества k-соседей - 5."
      ]
    },
    {
      "cell_type": "code",
      "execution_count": null,
      "metadata": {
        "id": "Kt5agPWQhElB"
      },
      "outputs": [],
      "source": [
        "error_rate = []\n",
        "\n",
        "for i in range(1,40):\n",
        "    # создание KNN классификатора с заданным значением k\n",
        "    knn = KNeighborsClassifier(n_neighbors = i)\n",
        "    # обучение его на тренировочных данных\n",
        "    knn.fit(X_train.values, y_train.values)\n",
        "    # прогноз покупок на тестовых данных\n",
        "    pred_i = knn.predict(X_test.values)\n",
        "    # сохранение значения ошибки\n",
        "    error_rate.append(np.mean(pred_i != y_test))"
      ]
    },
    {
      "cell_type": "code",
      "execution_count": null,
      "metadata": {
        "id": "Qf2V-C4ShElB",
        "outputId": "4acfb535-13c7-4471-8b5e-b185f197fc05"
      },
      "outputs": [
        {
          "data": {
            "text/plain": [
              "Text(0, 0.5, 'Процент ошибок')"
            ]
          },
          "execution_count": 72,
          "metadata": {},
          "output_type": "execute_result"
        },
        {
          "data": {
            "image/png": "[encoded data removed]",
            "text/plain": [
              "<Figure size 720x432 with 1 Axes>"
            ]
          },
          "metadata": {
            "needs_background": "light"
          },
          "output_type": "display_data"
        }
      ],
      "source": [
        "# графическое представление процента ошибок\n",
        "plt.figure(figsize=(10,6))\n",
        "plt.plot(range(1,40), error_rate, color='red', linestyle='dashed', marker='o', markerfacecolor='yellow', markersize=6)\n",
        "plt.title('Процент ошибок в зависимости от значения K')\n",
        "plt.xlabel('K')\n",
        "plt.ylabel('Процент ошибок')"
      ]
    },
    {
      "cell_type": "code",
      "execution_count": null,
      "metadata": {
        "id": "zD3P6WnOhElC",
        "outputId": "615f5542-a6c5-455f-a567-9e1fbe763859"
      },
      "outputs": [
        {
          "data": {
            "text/plain": [
              "KNeighborsClassifier(n_neighbors=22)"
            ]
          },
          "execution_count": 96,
          "metadata": {},
          "output_type": "execute_result"
        }
      ],
      "source": [
        "clf_kBest_new = KNeighborsClassifier(n_neighbors=22) # создадим модель 5ти ближайших соседей\n",
        "clf_kBest_new.fit(X_train, y_train)  # оценим параметры модели"
      ]
    },
    {
      "cell_type": "code",
      "execution_count": null,
      "metadata": {
        "id": "cyWMR4sehElD"
      },
      "outputs": [],
      "source": [
        "y_pred_kBest_new = clf_kBest.predict(X_test)  # прогноз отношения к классу 0 или 1\n",
        "y_pred_kBest_proba_new = clf_kBest.predict_proba(X_test)[:, 1]  # прогнозные вероятности отношения к классу 0 и 1"
      ]
    },
    {
      "cell_type": "markdown",
      "metadata": {
        "id": "NYc_S_3mhElE"
      },
      "source": [
        "### 4. Метод опорных векторов (Support Vector Machines);"
      ]
    },
    {
      "cell_type": "markdown",
      "metadata": {
        "id": "pOV5FdxzhElE"
      },
      "source": [
        "Метод опорных векторов (SVM, Support vector machines) использует гиперплоскость, чтобы классифицировать данные по 2 классам.\n",
        "\n",
        "Метод опорных векторов - это метод \"обучения с учителем\", использующий классификацию, регрессию и определение выбросов (outlier). Главное преимущество SVM заключается в том, что он эффективен в многомерном пространстве, даже когда количество выборок меньше количества измерений. Но в случаях, когда измерения превышают количество образцов, есть вероятность переобучения.\n",
        "\n",
        "Основная цель алгоритма SVM - создать оптимальную линию или границу решения, представляющую собой гиперплоскость, которая может разделить n-мерное пространство на классы, чтобы в будущем можно было поместить новую точку данных в правильную категорию.\n",
        "\n",
        "В отличие от других классификаторов, которые обращают внимание на все точки, этот метод сосредотачиваются только на точках, которые труднее всего классифицировать.\n",
        "\n",
        "Гиперплоскость - это подпространство, размерность которого на единицу меньше, чем размер его окружающего пространства или пространства, окружающего объект. Если пространство трехмерно, то его гиперплоскости являются двумерными, двумерно, его гиперплоскости являются одномерными линиями, одномерное, его гиперплоскость представляет собой единственную точку.\n",
        "SVM использует набор математических функций, известных как ядро, для создания границы оптимального решения, принимая данные в качестве входных. Наиболее предпочтительный вид функции ядра - это RBF. Потому что он локализован и имеет конечный отклик по всей оси абсцисс.\n",
        "\n",
        "Если данные слишком похожи или их сложно разделить по какой-либо причине, или из-за того, что они нелинейны, тогда SVM с ядром может добавить еще одно измерение с «гиперплоскостью», которая может разделить точки данных.\n",
        "\n",
        "Значениями ядра могут быть:\n",
        "\n",
        "* linear\n",
        "* poly\n",
        "* rbf (по умолчанию)\n",
        "* sigmoid\n",
        "* precomputed"
      ]
    },
    {
      "cell_type": "code",
      "execution_count": null,
      "metadata": {
        "id": "v0LPb08rhElF",
        "outputId": "c2bfcca3-1073-4069-e4e8-c6943310a645"
      },
      "outputs": [
        {
          "data": {
            "text/plain": [
              "GridSearchCV(estimator=SVC(),\n",
              "             param_grid={'C': [1, 10],\n",
              "                         'gamma': [1, 0.1, 0.01, 0.001, 0.0001, 1.1, 1.2],\n",
              "                         'kernel': ('linear', 'rbf')})"
            ]
          },
          "execution_count": 77,
          "metadata": {},
          "output_type": "execute_result"
        }
      ],
      "source": [
        "# поиск опимальных гиперпараметров\n",
        "# библиотека настройки гиперпараметров\n",
        "from sklearn.model_selection import GridSearchCV\n",
        "\n",
        "g = GridSearchCV(estimator=SVC(),\n",
        "            param_grid={'C': [1, 10], 'gamma': [1,0.1,0.01,0.001,0.0001,1.1,1.2], 'kernel': ('linear', 'rbf')})\n",
        "g.fit(X_train,y_train)"
      ]
    },
    {
      "cell_type": "code",
      "execution_count": null,
      "metadata": {
        "id": "1azg2nh4hElG",
        "outputId": "e00f07e4-be54-44ca-eac1-34a09e7280ad"
      },
      "outputs": [
        {
          "data": {
            "text/plain": [
              "{'C': 10, 'gamma': 0.1, 'kernel': 'rbf'}"
            ]
          },
          "execution_count": 78,
          "metadata": {},
          "output_type": "execute_result"
        }
      ],
      "source": [
        "g.best_params_"
      ]
    },
    {
      "cell_type": "code",
      "execution_count": null,
      "metadata": {
        "id": "dhpvpPAbhElH",
        "outputId": "2ef87d95-73e2-4872-e90e-3cd562086d63"
      },
      "outputs": [
        {
          "data": {
            "text/plain": [
              "SVC(C=10, gamma=0.1, probability=True)"
            ]
          },
          "execution_count": 100,
          "metadata": {},
          "output_type": "execute_result"
        }
      ],
      "source": [
        "clf_svc_new = SVC(probability=True, C=10, gamma=0.1, kernel='rbf') # создадим модельопорных векторов, с возможностью получить прогнозные вероятности (probability=True)\n",
        "clf_svc_new.fit(X_train, y_train)"
      ]
    },
    {
      "cell_type": "code",
      "execution_count": null,
      "metadata": {
        "id": "wFS1rst3hElH"
      },
      "outputs": [],
      "source": [
        "y_pred_svc_new = clf_svc_new.predict(X_test)  # прогноз отношения к классу 0 или 1\n",
        "y_pred_svc_proba_new = clf_svc_new.predict_proba(X_test)[:, 1]  # прогнозные вероятности отношения к классу 0 и 1"
      ]
    },
    {
      "cell_type": "markdown",
      "metadata": {
        "id": "5xrsNBADhElI"
      },
      "source": [
        "### 3. Случайный лес (Random Forests);"
      ]
    },
    {
      "cell_type": "markdown",
      "metadata": {
        "id": "BlmYM04-hElI"
      },
      "source": [
        "В Grid Search мы настраиваем сетку гиперпараметров и обучаем / тестируем нашу модель на каждой из возможных комбинаций."
      ]
    },
    {
      "cell_type": "markdown",
      "metadata": {
        "id": "1go8jyrFhElJ"
      },
      "source": [
        "### 2. Метод градиентного бустинга (GradientBoostingClassifier)"
      ]
    },
    {
      "cell_type": "code",
      "execution_count": null,
      "metadata": {
        "id": "uwccz9QohElJ",
        "outputId": "c2736cab-2d13-4411-bc14-8b8d0fda98cd"
      },
      "outputs": [
        {
          "name": "stdout",
          "output_type": "stream",
          "text": [
            "[[7171   75]\n",
            " [ 269  125]]\n",
            "              precision    recall  f1-score   support\n",
            "\n",
            "           0       0.96      0.99      0.98      7246\n",
            "           1       0.62      0.32      0.42       394\n",
            "\n",
            "    accuracy                           0.95      7640\n",
            "   macro avg       0.79      0.65      0.70      7640\n",
            "weighted avg       0.95      0.95      0.95      7640\n",
            "\n"
          ]
        }
      ],
      "source": [
        "from sklearn.pipeline import Pipeline\n",
        "pipe = Pipeline(steps = [\n",
        "    ('gb', GradientBoostingClassifier())\n",
        "])\n",
        "\n",
        "\n",
        "catbst_param_grid = {'gb__n_estimators': [50,100]}\n",
        "# создаем экземпляр класса GridSearchCV, передав конвейер,\n",
        "# сетку гиперпараметров и указав количество\n",
        "# блоков перекрестной проверки, отключив запись метрик\n",
        "# для обучающих блоков перекрестной проверки в атрибут cv_results_\n",
        "catbst_pipe = GradientBoostingClassifier()\n",
        "model_gbm = GridSearchCV(pipe, catbst_param_grid, n_jobs = -1)\n",
        "# выполняем поиск по всем значениям сетки\n",
        "model_gbm.fit(X_train, y_train)\n",
        "#passing the scoring function in the GridSearchCV\n",
        "\n",
        "prediction_gbm = model_gbm.best_estimator_.predict(X_test)\n",
        "print(confusion_matrix(y_test,prediction_gbm))\n",
        "print(classification_report(y_test,prediction_gbm))\n",
        "acc4 = accuracy_score(y_test,prediction_gbm)\n"
      ]
    },
    {
      "cell_type": "code",
      "execution_count": null,
      "metadata": {
        "id": "r1eH5LoIhElK"
      },
      "outputs": [],
      "source": [
        "y_pred_gbst_new = model_gbm.predict(X_test)  # прогноз отношения к классу 0 или 1\n",
        "y_pred_gbst_proba_new = model_gbm.predict_proba(X_test)[:, 1]  # прогнозные вероятности отношения к классу 0 и 1"
      ]
    },
    {
      "cell_type": "code",
      "execution_count": null,
      "metadata": {
        "id": "9E8bQy3NhElL",
        "outputId": "f150be46-7196-4c76-d878-007838f052a1"
      },
      "outputs": [
        {
          "name": "stdout",
          "output_type": "stream",
          "text": [
            "Коэффициент Джини для RandomForestClassifier(n_estimators=151, random_state=42) : 0.82\n",
            "AUROC для RandomForestClassifier(n_estimators=151, random_state=42) : 0.91 \n",
            "\n",
            "Коэффициент Джини для KNeighborsClassifier(n_neighbors=22) : 0.75\n",
            "AUROC для KNeighborsClassifier(n_neighbors=22) : 0.87 \n",
            "\n",
            "Коэффициент Джини для SVC(C=10, gamma=0.1, probability=True) : 0.37\n",
            "AUROC для SVC(C=10, gamma=0.1, probability=True) : 0.69 \n",
            "\n",
            "Коэффициент Джини для GradientBoostingClassifier(random_state=42) : 0.84\n",
            "AUROC для GradientBoostingClassifier(random_state=42) : 0.92 \n",
            "\n"
          ]
        },
        {
          "data": {
            "image/png": "[encoded data removed]",
            "text/plain": [
              "<Figure size 720x720 with 1 Axes>"
            ]
          },
          "metadata": {
            "needs_background": "light"
          },
          "output_type": "display_data"
        }
      ],
      "source": [
        "\n",
        "y_pred_probas_new = [y_pred_rndForest_proba_new, y_pred_kBest_proba_new, y_pred_svc_proba_new, y_pred_gbst_proba_new] \n",
        "\n",
        "clfs = [clf_rndForest, clf_kBest, clf_svc, clf_gbst]\n",
        "\n",
        "fig, ax = plt.subplots(figsize =(10, 10)) # Создадим график\n",
        "ax.grid()\n",
        "ax.plot([0, 1], [0, 1],'r--') # отобразим на графике ROC-кривую для случайной модели\n",
        "\n",
        "for i in range(len(y_pred_probas_new)): # цикл для каждого классификатора\n",
        "    roc_auc = roc_auc_score(y_test, y_pred_probas_new[i]) # Расчет AUROC. На вход подаются наблюдаемые значения тестовой выборки и прогнозные\n",
        "    fpr, tpr, thresholds = roc_curve(y_test, y_pred_probas_new[i]) # Построение ROC- кривой\n",
        "\n",
        "    plt.plot(fpr, tpr, label= clfs[i]) #отобразим на графике ROC-кривую и значение AUROC\n",
        "    print('Коэффициент Джини для', clfs[i],':', round(2 * roc_auc - 1,2)) # посчитаем и выведем значение коэффициента Джини для каждого классификатора\n",
        "    print('AUROC для', clfs[i],':', round(roc_auc,2),'\\n') # посчитаем и выведем значение коэффициента Джини для каждого классификатора\n",
        "   \n",
        "    \n",
        "plt.xlabel('False Positive Rate') # название оси х\n",
        "plt.ylabel('True Positive Rate') # название оси y\n",
        "plt.title('ROC кривая')# название графика\n",
        "plt.legend(loc=\"lower right\") # расположение легенды\n",
        "plt.savefig('Log_ROC') # сохранить график\n",
        "plt.show(); # отобразитьграфик"
      ]
    },
    {
      "cell_type": "code",
      "execution_count": null,
      "metadata": {
        "id": "VEmsOTtehElM",
        "outputId": "25f9f0dc-f70e-49af-b2dd-ae3faa404739"
      },
      "outputs": [
        {
          "data": {
            "text/html": [
              "<div>\n",
              "<style scoped>\n",
              "    .dataframe tbody tr th:only-of-type {\n",
              "        vertical-align: middle;\n",
              "    }\n",
              "\n",
              "    .dataframe tbody tr th {\n",
              "        vertical-align: top;\n",
              "    }\n",
              "\n",
              "    .dataframe thead th {\n",
              "        text-align: right;\n",
              "    }\n",
              "</style>\n",
              "<table border=\"1\" class=\"dataframe\">\n",
              "  <thead>\n",
              "    <tr style=\"text-align: right;\">\n",
              "      <th></th>\n",
              "      <th>alghorithm_ml</th>\n",
              "      <th>old_value_jiny</th>\n",
              "      <th>new_value_jiny</th>\n",
              "      <th>sigma</th>\n",
              "    </tr>\n",
              "  </thead>\n",
              "  <tbody>\n",
              "    <tr>\n",
              "      <th>0</th>\n",
              "      <td>Kneighbors</td>\n",
              "      <td>0.55</td>\n",
              "      <td>0.75</td>\n",
              "      <td>36.363636</td>\n",
              "    </tr>\n",
              "    <tr>\n",
              "      <th>1</th>\n",
              "      <td>GradientBoosting</td>\n",
              "      <td>0.84</td>\n",
              "      <td>0.84</td>\n",
              "      <td>0.000000</td>\n",
              "    </tr>\n",
              "    <tr>\n",
              "      <th>2</th>\n",
              "      <td>RandomForestClassifier</td>\n",
              "      <td>0.67</td>\n",
              "      <td>0.82</td>\n",
              "      <td>22.388060</td>\n",
              "    </tr>\n",
              "    <tr>\n",
              "      <th>3</th>\n",
              "      <td>SVC</td>\n",
              "      <td>0.38</td>\n",
              "      <td>0.37</td>\n",
              "      <td>-2.631579</td>\n",
              "    </tr>\n",
              "  </tbody>\n",
              "</table>\n",
              "</div>"
            ],
            "text/plain": [
              "            alghorithm_ml  old_value_jiny  new_value_jiny      sigma\n",
              "0              Kneighbors            0.55            0.75  36.363636\n",
              "1        GradientBoosting            0.84            0.84   0.000000\n",
              "2  RandomForestClassifier            0.67            0.82  22.388060\n",
              "3                     SVC            0.38            0.37  -2.631579"
            ]
          },
          "execution_count": 118,
          "metadata": {},
          "output_type": "execute_result"
        }
      ],
      "source": [
        "# Создадим сводную таблицу с новыми значениями коэффициента Джини\n",
        "\n",
        "old_value_jiny = [0.55, 0.84, 0.67, 0.38]\n",
        "alghorithm_ml = ['Kneighbors', 'GradientBoosting', 'RandomForestClassifier', 'SVC']\n",
        "new_value_jiny = [0.75, 0.84, 0.82, 0.37]\n",
        "\n",
        "data = {'alghorithm_ml' : ['Kneighbors', 'GradientBoosting', 'RandomForestClassifier', 'SVC'],\n",
        "       'old_value_jiny' : [0.55, 0.84, 0.67, 0.38],\n",
        "        'new_value_jiny' : [0.75, 0.84, 0.82, 0.37]}\n",
        "\n",
        "df = pd.DataFrame(data)\n",
        "df['sigma'] = 100*(df['new_value_jiny'] / df['old_value_jiny'] -1)\n",
        "df"
      ]
    },
    {
      "cell_type": "markdown",
      "metadata": {
        "id": "3_ns3etihElN"
      },
      "source": [
        "## Вывод:\n",
        "Качество алгоритмов увеличить получилось за исключением метода SVC. Метод градиентного бустинга показал себя наилучшим образом"
      ]
    },
    {
      "cell_type": "code",
      "execution_count": null,
      "metadata": {
        "id": "WlJ1WOfKhElN"
      },
      "outputs": [],
      "source": []
    }
  ],
  "metadata": {
    "kernelspec": {
      "display_name": "Python 3",
      "language": "python",
      "name": "python3"
    },
    "language_info": {
      "codemirror_mode": {
        "name": "ipython",
        "version": 3
      },
      "file_extension": ".py",
      "mimetype": "text/x-python",
      "name": "python",
      "nbconvert_exporter": "python",
      "pygments_lexer": "ipython3",
      "version": "3.8.8"
    },
    "colab": {
      "provenance": [],
      "collapsed_sections": [
        "h0bfDJ0-hEko",
        "NSsDyBR5hEkt",
        "Leg0g8O9hEkx",
        "RahvWPyFhEk3",
        "CBIAkxL9hEk4",
        "Q_Uq8_f-hEk_",
        "NYc_S_3mhElE",
        "5xrsNBADhElI",
        "1go8jyrFhElJ"
      ]
    }
  },
  "nbformat": 4,
  "nbformat_minor": 0
}