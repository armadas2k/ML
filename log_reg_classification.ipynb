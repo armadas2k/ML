{
  "cells": [
    {
      "cell_type": "markdown",
      "metadata": {
        "id": "fDL5q0dZRq7s"
      },
      "source": [
        "# Лабораторная работа 2. Построение модели "
      ]
    },
    {
      "cell_type": "markdown",
      "metadata": {
        "id": "pcr78bxcRq7v"
      },
      "source": [
        "## Импорт библиотек и настройки"
      ]
    },
    {
      "cell_type": "code",
      "execution_count": null,
      "metadata": {
        "id": "bcSA77S1Rq7w"
      },
      "outputs": [],
      "source": [
        "import os # библиотека для работы с операционной системой\n",
        "\n",
        "import numpy as np  # библиотека для поддержки больших многомерных массивов и матриц\n",
        "import pandas as pd  # библиотека для обработки данных в виде (таблиц) датафреймов\n",
        "\n",
        "import matplotlib.pyplot as plt # библиотка двумерной графики\n",
        "import seaborn as sns # библиотка для визуалицаии данных\n",
        "# функция, которая позволяет отображать графики matplotlib непосредственно в ячейке, где они были сделаны\n",
        "%matplotlib inline \n",
        "import warnings  # библиотека для работы с предупреждениями\n",
        "warnings.filterwarnings(\"ignore\", category=DeprecationWarning)\n",
        "warnings.filterwarnings(\"ignore\", category=UserWarning)\n",
        "warnings.filterwarnings(\"ignore\", category=FutureWarning)"
      ]
    },
    {
      "cell_type": "markdown",
      "metadata": {
        "id": "f2YFvvrMRq7x"
      },
      "source": [
        "Зададим пути для входных данных и сохранения результатов"
      ]
    },
    {
      "cell_type": "code",
      "execution_count": null,
      "metadata": {
        "id": "_k_Nd0lmRq7y"
      },
      "outputs": [],
      "source": [
        "inputPath = \"../0. data/\" # Введите путь до каталога с входными данными\n",
        "outputPath = \"./output/\" # Введите путь до желаемого каталога с результатами\n",
        "if not os.path.exists(outputPath): # Проверка существования папки с результатами\n",
        "    os.makedirs(outputPath)     # Создание папки с результатами,  в случае если ее не существует"
      ]
    },
    {
      "cell_type": "markdown",
      "metadata": {
        "id": "D_9-dDGiRq7y"
      },
      "source": [
        "## Чтение данных"
      ]
    },
    {
      "cell_type": "markdown",
      "metadata": {
        "id": "CKQh8_L9Rq7z"
      },
      "source": [
        "Считаем данные и выведем первые несколько строк таблицы"
      ]
    },
    {
      "cell_type": "code",
      "execution_count": null,
      "metadata": {
        "colab": {
          "base_uri": "https://localhost:8080/",
          "height": 328
        },
        "id": "wyy6OXOxRq7z",
        "outputId": "81f15c93-d59e-48f2-ecc4-df2415e91ffe"
      },
      "outputs": [
        {
          "output_type": "error",
          "ename": "FileNotFoundError",
          "evalue": "ignored",
          "traceback": [
            "\u001b[0;31m---------------------------------------------------------------------------\u001b[0m",
            "\u001b[0;31mFileNotFoundError\u001b[0m                         Traceback (most recent call last)",
            "\u001b[0;32m<ipython-input-5-be49a4d108d7>\u001b[0m in \u001b[0;36m<module>\u001b[0;34m()\u001b[0m\n\u001b[0;32m----> 1\u001b[0;31m \u001b[0mdata_pd\u001b[0m \u001b[0;34m=\u001b[0m \u001b[0mpd\u001b[0m\u001b[0;34m.\u001b[0m\u001b[0mread_csv\u001b[0m\u001b[0;34m(\u001b[0m\u001b[0;34m'ModelData.csv'\u001b[0m\u001b[0;34m,\u001b[0m \u001b[0mindex_col\u001b[0m\u001b[0;34m=\u001b[0m\u001b[0;36m0\u001b[0m\u001b[0;34m)\u001b[0m\u001b[0;34m\u001b[0m\u001b[0;34m\u001b[0m\u001b[0m\n\u001b[0m\u001b[1;32m      2\u001b[0m \u001b[0mdata_pd\u001b[0m\u001b[0;34m\u001b[0m\u001b[0;34m\u001b[0m\u001b[0m\n",
            "\u001b[0;32m/usr/local/lib/python3.7/dist-packages/pandas/util/_decorators.py\u001b[0m in \u001b[0;36mwrapper\u001b[0;34m(*args, **kwargs)\u001b[0m\n\u001b[1;32m    309\u001b[0m                     \u001b[0mstacklevel\u001b[0m\u001b[0;34m=\u001b[0m\u001b[0mstacklevel\u001b[0m\u001b[0;34m,\u001b[0m\u001b[0;34m\u001b[0m\u001b[0;34m\u001b[0m\u001b[0m\n\u001b[1;32m    310\u001b[0m                 )\n\u001b[0;32m--> 311\u001b[0;31m             \u001b[0;32mreturn\u001b[0m \u001b[0mfunc\u001b[0m\u001b[0;34m(\u001b[0m\u001b[0;34m*\u001b[0m\u001b[0margs\u001b[0m\u001b[0;34m,\u001b[0m \u001b[0;34m**\u001b[0m\u001b[0mkwargs\u001b[0m\u001b[0;34m)\u001b[0m\u001b[0;34m\u001b[0m\u001b[0;34m\u001b[0m\u001b[0m\n\u001b[0m\u001b[1;32m    312\u001b[0m \u001b[0;34m\u001b[0m\u001b[0m\n\u001b[1;32m    313\u001b[0m         \u001b[0;32mreturn\u001b[0m \u001b[0mwrapper\u001b[0m\u001b[0;34m\u001b[0m\u001b[0;34m\u001b[0m\u001b[0m\n",
            "\u001b[0;32m/usr/local/lib/python3.7/dist-packages/pandas/io/parsers/readers.py\u001b[0m in \u001b[0;36mread_csv\u001b[0;34m(filepath_or_buffer, sep, delimiter, header, names, index_col, usecols, squeeze, prefix, mangle_dupe_cols, dtype, engine, converters, true_values, false_values, skipinitialspace, skiprows, skipfooter, nrows, na_values, keep_default_na, na_filter, verbose, skip_blank_lines, parse_dates, infer_datetime_format, keep_date_col, date_parser, dayfirst, cache_dates, iterator, chunksize, compression, thousands, decimal, lineterminator, quotechar, quoting, doublequote, escapechar, comment, encoding, encoding_errors, dialect, error_bad_lines, warn_bad_lines, on_bad_lines, delim_whitespace, low_memory, memory_map, float_precision, storage_options)\u001b[0m\n\u001b[1;32m    584\u001b[0m     \u001b[0mkwds\u001b[0m\u001b[0;34m.\u001b[0m\u001b[0mupdate\u001b[0m\u001b[0;34m(\u001b[0m\u001b[0mkwds_defaults\u001b[0m\u001b[0;34m)\u001b[0m\u001b[0;34m\u001b[0m\u001b[0;34m\u001b[0m\u001b[0m\n\u001b[1;32m    585\u001b[0m \u001b[0;34m\u001b[0m\u001b[0m\n\u001b[0;32m--> 586\u001b[0;31m     \u001b[0;32mreturn\u001b[0m \u001b[0m_read\u001b[0m\u001b[0;34m(\u001b[0m\u001b[0mfilepath_or_buffer\u001b[0m\u001b[0;34m,\u001b[0m \u001b[0mkwds\u001b[0m\u001b[0;34m)\u001b[0m\u001b[0;34m\u001b[0m\u001b[0;34m\u001b[0m\u001b[0m\n\u001b[0m\u001b[1;32m    587\u001b[0m \u001b[0;34m\u001b[0m\u001b[0m\n\u001b[1;32m    588\u001b[0m \u001b[0;34m\u001b[0m\u001b[0m\n",
            "\u001b[0;32m/usr/local/lib/python3.7/dist-packages/pandas/io/parsers/readers.py\u001b[0m in \u001b[0;36m_read\u001b[0;34m(filepath_or_buffer, kwds)\u001b[0m\n\u001b[1;32m    480\u001b[0m \u001b[0;34m\u001b[0m\u001b[0m\n\u001b[1;32m    481\u001b[0m     \u001b[0;31m# Create the parser.\u001b[0m\u001b[0;34m\u001b[0m\u001b[0;34m\u001b[0m\u001b[0;34m\u001b[0m\u001b[0m\n\u001b[0;32m--> 482\u001b[0;31m     \u001b[0mparser\u001b[0m \u001b[0;34m=\u001b[0m \u001b[0mTextFileReader\u001b[0m\u001b[0;34m(\u001b[0m\u001b[0mfilepath_or_buffer\u001b[0m\u001b[0;34m,\u001b[0m \u001b[0;34m**\u001b[0m\u001b[0mkwds\u001b[0m\u001b[0;34m)\u001b[0m\u001b[0;34m\u001b[0m\u001b[0;34m\u001b[0m\u001b[0m\n\u001b[0m\u001b[1;32m    483\u001b[0m \u001b[0;34m\u001b[0m\u001b[0m\n\u001b[1;32m    484\u001b[0m     \u001b[0;32mif\u001b[0m \u001b[0mchunksize\u001b[0m \u001b[0;32mor\u001b[0m \u001b[0miterator\u001b[0m\u001b[0;34m:\u001b[0m\u001b[0;34m\u001b[0m\u001b[0;34m\u001b[0m\u001b[0m\n",
            "\u001b[0;32m/usr/local/lib/python3.7/dist-packages/pandas/io/parsers/readers.py\u001b[0m in \u001b[0;36m__init__\u001b[0;34m(self, f, engine, **kwds)\u001b[0m\n\u001b[1;32m    809\u001b[0m             \u001b[0mself\u001b[0m\u001b[0;34m.\u001b[0m\u001b[0moptions\u001b[0m\u001b[0;34m[\u001b[0m\u001b[0;34m\"has_index_names\"\u001b[0m\u001b[0;34m]\u001b[0m \u001b[0;34m=\u001b[0m \u001b[0mkwds\u001b[0m\u001b[0;34m[\u001b[0m\u001b[0;34m\"has_index_names\"\u001b[0m\u001b[0;34m]\u001b[0m\u001b[0;34m\u001b[0m\u001b[0;34m\u001b[0m\u001b[0m\n\u001b[1;32m    810\u001b[0m \u001b[0;34m\u001b[0m\u001b[0m\n\u001b[0;32m--> 811\u001b[0;31m         \u001b[0mself\u001b[0m\u001b[0;34m.\u001b[0m\u001b[0m_engine\u001b[0m \u001b[0;34m=\u001b[0m \u001b[0mself\u001b[0m\u001b[0;34m.\u001b[0m\u001b[0m_make_engine\u001b[0m\u001b[0;34m(\u001b[0m\u001b[0mself\u001b[0m\u001b[0;34m.\u001b[0m\u001b[0mengine\u001b[0m\u001b[0;34m)\u001b[0m\u001b[0;34m\u001b[0m\u001b[0;34m\u001b[0m\u001b[0m\n\u001b[0m\u001b[1;32m    812\u001b[0m \u001b[0;34m\u001b[0m\u001b[0m\n\u001b[1;32m    813\u001b[0m     \u001b[0;32mdef\u001b[0m \u001b[0mclose\u001b[0m\u001b[0;34m(\u001b[0m\u001b[0mself\u001b[0m\u001b[0;34m)\u001b[0m\u001b[0;34m:\u001b[0m\u001b[0;34m\u001b[0m\u001b[0;34m\u001b[0m\u001b[0m\n",
            "\u001b[0;32m/usr/local/lib/python3.7/dist-packages/pandas/io/parsers/readers.py\u001b[0m in \u001b[0;36m_make_engine\u001b[0;34m(self, engine)\u001b[0m\n\u001b[1;32m   1038\u001b[0m             )\n\u001b[1;32m   1039\u001b[0m         \u001b[0;31m# error: Too many arguments for \"ParserBase\"\u001b[0m\u001b[0;34m\u001b[0m\u001b[0;34m\u001b[0m\u001b[0;34m\u001b[0m\u001b[0m\n\u001b[0;32m-> 1040\u001b[0;31m         \u001b[0;32mreturn\u001b[0m \u001b[0mmapping\u001b[0m\u001b[0;34m[\u001b[0m\u001b[0mengine\u001b[0m\u001b[0;34m]\u001b[0m\u001b[0;34m(\u001b[0m\u001b[0mself\u001b[0m\u001b[0;34m.\u001b[0m\u001b[0mf\u001b[0m\u001b[0;34m,\u001b[0m \u001b[0;34m**\u001b[0m\u001b[0mself\u001b[0m\u001b[0;34m.\u001b[0m\u001b[0moptions\u001b[0m\u001b[0;34m)\u001b[0m  \u001b[0;31m# type: ignore[call-arg]\u001b[0m\u001b[0;34m\u001b[0m\u001b[0;34m\u001b[0m\u001b[0m\n\u001b[0m\u001b[1;32m   1041\u001b[0m \u001b[0;34m\u001b[0m\u001b[0m\n\u001b[1;32m   1042\u001b[0m     \u001b[0;32mdef\u001b[0m \u001b[0m_failover_to_python\u001b[0m\u001b[0;34m(\u001b[0m\u001b[0mself\u001b[0m\u001b[0;34m)\u001b[0m\u001b[0;34m:\u001b[0m\u001b[0;34m\u001b[0m\u001b[0;34m\u001b[0m\u001b[0m\n",
            "\u001b[0;32m/usr/local/lib/python3.7/dist-packages/pandas/io/parsers/c_parser_wrapper.py\u001b[0m in \u001b[0;36m__init__\u001b[0;34m(self, src, **kwds)\u001b[0m\n\u001b[1;32m     49\u001b[0m \u001b[0;34m\u001b[0m\u001b[0m\n\u001b[1;32m     50\u001b[0m         \u001b[0;31m# open handles\u001b[0m\u001b[0;34m\u001b[0m\u001b[0;34m\u001b[0m\u001b[0;34m\u001b[0m\u001b[0m\n\u001b[0;32m---> 51\u001b[0;31m         \u001b[0mself\u001b[0m\u001b[0;34m.\u001b[0m\u001b[0m_open_handles\u001b[0m\u001b[0;34m(\u001b[0m\u001b[0msrc\u001b[0m\u001b[0;34m,\u001b[0m \u001b[0mkwds\u001b[0m\u001b[0;34m)\u001b[0m\u001b[0;34m\u001b[0m\u001b[0;34m\u001b[0m\u001b[0m\n\u001b[0m\u001b[1;32m     52\u001b[0m         \u001b[0;32massert\u001b[0m \u001b[0mself\u001b[0m\u001b[0;34m.\u001b[0m\u001b[0mhandles\u001b[0m \u001b[0;32mis\u001b[0m \u001b[0;32mnot\u001b[0m \u001b[0;32mNone\u001b[0m\u001b[0;34m\u001b[0m\u001b[0;34m\u001b[0m\u001b[0m\n\u001b[1;32m     53\u001b[0m \u001b[0;34m\u001b[0m\u001b[0m\n",
            "\u001b[0;32m/usr/local/lib/python3.7/dist-packages/pandas/io/parsers/base_parser.py\u001b[0m in \u001b[0;36m_open_handles\u001b[0;34m(self, src, kwds)\u001b[0m\n\u001b[1;32m    227\u001b[0m             \u001b[0mmemory_map\u001b[0m\u001b[0;34m=\u001b[0m\u001b[0mkwds\u001b[0m\u001b[0;34m.\u001b[0m\u001b[0mget\u001b[0m\u001b[0;34m(\u001b[0m\u001b[0;34m\"memory_map\"\u001b[0m\u001b[0;34m,\u001b[0m \u001b[0;32mFalse\u001b[0m\u001b[0;34m)\u001b[0m\u001b[0;34m,\u001b[0m\u001b[0;34m\u001b[0m\u001b[0;34m\u001b[0m\u001b[0m\n\u001b[1;32m    228\u001b[0m             \u001b[0mstorage_options\u001b[0m\u001b[0;34m=\u001b[0m\u001b[0mkwds\u001b[0m\u001b[0;34m.\u001b[0m\u001b[0mget\u001b[0m\u001b[0;34m(\u001b[0m\u001b[0;34m\"storage_options\"\u001b[0m\u001b[0;34m,\u001b[0m \u001b[0;32mNone\u001b[0m\u001b[0;34m)\u001b[0m\u001b[0;34m,\u001b[0m\u001b[0;34m\u001b[0m\u001b[0;34m\u001b[0m\u001b[0m\n\u001b[0;32m--> 229\u001b[0;31m             \u001b[0merrors\u001b[0m\u001b[0;34m=\u001b[0m\u001b[0mkwds\u001b[0m\u001b[0;34m.\u001b[0m\u001b[0mget\u001b[0m\u001b[0;34m(\u001b[0m\u001b[0;34m\"encoding_errors\"\u001b[0m\u001b[0;34m,\u001b[0m \u001b[0;34m\"strict\"\u001b[0m\u001b[0;34m)\u001b[0m\u001b[0;34m,\u001b[0m\u001b[0;34m\u001b[0m\u001b[0;34m\u001b[0m\u001b[0m\n\u001b[0m\u001b[1;32m    230\u001b[0m         )\n\u001b[1;32m    231\u001b[0m \u001b[0;34m\u001b[0m\u001b[0m\n",
            "\u001b[0;32m/usr/local/lib/python3.7/dist-packages/pandas/io/common.py\u001b[0m in \u001b[0;36mget_handle\u001b[0;34m(path_or_buf, mode, encoding, compression, memory_map, is_text, errors, storage_options)\u001b[0m\n\u001b[1;32m    705\u001b[0m                 \u001b[0mencoding\u001b[0m\u001b[0;34m=\u001b[0m\u001b[0mioargs\u001b[0m\u001b[0;34m.\u001b[0m\u001b[0mencoding\u001b[0m\u001b[0;34m,\u001b[0m\u001b[0;34m\u001b[0m\u001b[0;34m\u001b[0m\u001b[0m\n\u001b[1;32m    706\u001b[0m                 \u001b[0merrors\u001b[0m\u001b[0;34m=\u001b[0m\u001b[0merrors\u001b[0m\u001b[0;34m,\u001b[0m\u001b[0;34m\u001b[0m\u001b[0;34m\u001b[0m\u001b[0m\n\u001b[0;32m--> 707\u001b[0;31m                 \u001b[0mnewline\u001b[0m\u001b[0;34m=\u001b[0m\u001b[0;34m\"\"\u001b[0m\u001b[0;34m,\u001b[0m\u001b[0;34m\u001b[0m\u001b[0;34m\u001b[0m\u001b[0m\n\u001b[0m\u001b[1;32m    708\u001b[0m             )\n\u001b[1;32m    709\u001b[0m         \u001b[0;32melse\u001b[0m\u001b[0;34m:\u001b[0m\u001b[0;34m\u001b[0m\u001b[0;34m\u001b[0m\u001b[0m\n",
            "\u001b[0;31mFileNotFoundError\u001b[0m: [Errno 2] No such file or directory: 'ModelData.csv'"
          ]
        }
      ],
      "source": [
        "data_pd = pd.read_csv('ModelData.csv', index_col=0)\n",
        "data_pd"
      ]
    },
    {
      "cell_type": "markdown",
      "metadata": {
        "id": "_MyKNyhHRq70"
      },
      "source": [
        "# 1. Построение модели"
      ]
    },
    {
      "cell_type": "markdown",
      "metadata": {
        "id": "4CIPjA8ARq71"
      },
      "source": [
        "**Для построения модели логистической регрессии в Python существует две различных библиотеки:**\n",
        "- **statsmodels. Чаще используется для статистических целей, так как обладает широким набором статистических тестов**\n",
        "- **sklearn. Чаще используется для реализации методов машинного обучения. Направлена на решение задач классификации, включает наиболее распространенные метрики, не отличается большим набором статистических тестов.**\n",
        "\n",
        "**В данном примере показано, что обе библиотеки равноправны, дают одинаковый результат и выбор библиотеки производится с учетом целей пользователя**    \n",
        "\n"
      ]
    },
    {
      "cell_type": "markdown",
      "metadata": {
        "id": "-b5KqwTzRq71"
      },
      "source": [
        "### Построим модель с использованием библиотеки statsmodels"
      ]
    },
    {
      "cell_type": "code",
      "execution_count": null,
      "metadata": {
        "colab": {
          "base_uri": "https://localhost:8080/"
        },
        "id": "p_iPvrh8Rq72",
        "outputId": "6fc6f613-ed62-4fff-c507-37b026c29083"
      },
      "outputs": [
        {
          "output_type": "stream",
          "name": "stdout",
          "text": [
            "Optimization terminated successfully.\n",
            "         Current function value: 0.125979\n",
            "         Iterations 9\n",
            "                                  Results: Logit\n",
            "==================================================================================\n",
            "Model:                    Logit                  Pseudo R-squared:       0.388    \n",
            "Dependent Variable:       default_flag           AIC:                    6432.1183\n",
            "Date:                     2022-03-24 18:54       BIC:                    6497.2787\n",
            "No. Observations:         25465                  Log-Likelihood:         -3208.1  \n",
            "Df Model:                 7                      LL-Null:                -5238.4  \n",
            "Df Residuals:             25457                  LLR p-value:            0.0000   \n",
            "Converged:                1.0000                 Scale:                  1.0000   \n",
            "No. Iterations:           9.0000                                                  \n",
            "----------------------------------------------------------------------------------\n",
            "                                   Coef.  Std.Err.    z     P>|z|   [0.025  0.975]\n",
            "----------------------------------------------------------------------------------\n",
            "woe_max_arrears_12m               -0.8083   0.0323 -25.0608 0.0000 -0.8715 -0.7451\n",
            "woe_bureau_score                  -0.5285   0.0539  -9.7968 0.0000 -0.6342 -0.4228\n",
            "woe_cc_util                       -0.9413   0.0291 -32.3267 0.0000 -0.9984 -0.8843\n",
            "woe_num_ccj                       -0.0625   0.0822  -0.7597 0.4474 -0.2237  0.0987\n",
            "woe_emp_length                    -0.1420   0.0898  -1.5805 0.1140 -0.3181  0.0341\n",
            "woe_months_since_recent_cc_delinq -0.3052   0.0694  -4.4003 0.0000 -0.4412 -0.1693\n",
            "woe_annual_income                 -0.9518   0.0506 -18.8218 0.0000 -1.0509 -0.8527\n",
            "intercept                         -2.8936   0.0410 -70.5998 0.0000 -2.9740 -2.8133\n",
            "==================================================================================\n",
            "\n"
          ]
        }
      ],
      "source": [
        "import statsmodels.api as sm # импортируем библиотеку\n",
        "\n",
        "X_sm = data_pd.drop('default_flag', axis=1).copy() # сформируем датафрейм независимых переменных путем копирования исходного датафрейма с удаленным столбцом \"default_flag\"\n",
        "y_sm = data_pd['default_flag'].copy() #зависимая переменная\n",
        "X_sm['intercept'] = 1 # добавим единичный столбец, чтоб оценить коэффициент пересечения\n",
        "\n",
        "model = sm.Logit(y_sm, X_sm, intercept=True)  # построим модель логистической регрессии\n",
        "model_result = model.fit() # оценим параметры модели\n",
        "print(model_result.summary2()) # выведем результаты\n"
      ]
    },
    {
      "cell_type": "markdown",
      "metadata": {
        "id": "_dm6YIEKRq72"
      },
      "source": [
        "### Построим модель с использованием библиотеки sklearn"
      ]
    },
    {
      "cell_type": "code",
      "execution_count": null,
      "metadata": {
        "colab": {
          "base_uri": "https://localhost:8080/"
        },
        "id": "y0-65VTXRq72",
        "outputId": "5b138f94-195d-4c91-83eb-04460266a415"
      },
      "outputs": [
        {
          "output_type": "stream",
          "name": "stdout",
          "text": [
            "Коэффициенты модели: [[-0.80830606 -0.52850994 -0.94134367 -0.06250825 -0.14203597 -0.30522203\n",
            "  -0.95178053]]\n",
            "Пересечение: [-2.89366744]\n"
          ]
        }
      ],
      "source": [
        "from sklearn.linear_model import LogisticRegression # импортируем из библиотеки sklearn класс для построения моделей лог.регрессии\n",
        "\n",
        "X = data_pd.drop('default_flag', axis=1).copy() # сформируем датафрейм независимых переменных путем копирования исходного датафрейма с удаленным столбцом \"default_flag\"\n",
        "y = data_pd['default_flag'].copy() #зависимая переменная\n",
        "\n",
        "logreg = LogisticRegression(C=1e9, fit_intercept=True) # построим модель логистической регрессии\n",
        "logreg.fit(X, y) #оценка параметров модели\n",
        "\n",
        "# Выведем коэффициенты модели и пересечение\n",
        "print('Коэффициенты модели:', logreg.coef_)\n",
        "print('Пересечение:', logreg.intercept_)\n",
        "\n",
        "\n",
        " "
      ]
    },
    {
      "cell_type": "markdown",
      "metadata": {
        "id": "tVj9cP7nRq73"
      },
      "source": [
        "# 2. Проверка значимости коэффициентов логистической регрессии и уравнения модели"
      ]
    },
    {
      "cell_type": "markdown",
      "metadata": {
        "id": "IbGnbR3PRq73"
      },
      "source": [
        "**Цель Теста** Проверка значимости полученных коэффициентов модели, всего уравнения в целом.\n",
        "\n",
        "**Описание теста** Для проверки значимости коэффициентов используется тест Вальда, всего уравнения в целом – Тест отношения правдоподобий "
      ]
    },
    {
      "cell_type": "code",
      "execution_count": null,
      "metadata": {
        "colab": {
          "base_uri": "https://localhost:8080/",
          "height": 384
        },
        "id": "HK9RTZXwRq73",
        "outputId": "5e337d2d-f155-48ad-a7b9-76ed447e400c"
      },
      "outputs": [
        {
          "output_type": "execute_result",
          "data": {
            "text/plain": [
              "<class 'statsmodels.iolib.summary2.Summary'>\n",
              "\"\"\"\n",
              "                                  Results: Logit\n",
              "==================================================================================\n",
              "Model:                    Logit                  Pseudo R-squared:       0.388    \n",
              "Dependent Variable:       default_flag           AIC:                    6432.1183\n",
              "Date:                     2022-03-24 18:54       BIC:                    6497.2787\n",
              "No. Observations:         25465                  Log-Likelihood:         -3208.1  \n",
              "Df Model:                 7                      LL-Null:                -5238.4  \n",
              "Df Residuals:             25457                  LLR p-value:            0.0000   \n",
              "Converged:                1.0000                 Scale:                  1.0000   \n",
              "No. Iterations:           9.0000                                                  \n",
              "----------------------------------------------------------------------------------\n",
              "                                   Coef.  Std.Err.    z     P>|z|   [0.025  0.975]\n",
              "----------------------------------------------------------------------------------\n",
              "woe_max_arrears_12m               -0.8083   0.0323 -25.0608 0.0000 -0.8715 -0.7451\n",
              "woe_bureau_score                  -0.5285   0.0539  -9.7968 0.0000 -0.6342 -0.4228\n",
              "woe_cc_util                       -0.9413   0.0291 -32.3267 0.0000 -0.9984 -0.8843\n",
              "woe_num_ccj                       -0.0625   0.0822  -0.7597 0.4474 -0.2237  0.0987\n",
              "woe_emp_length                    -0.1420   0.0898  -1.5805 0.1140 -0.3181  0.0341\n",
              "woe_months_since_recent_cc_delinq -0.3052   0.0694  -4.4003 0.0000 -0.4412 -0.1693\n",
              "woe_annual_income                 -0.9518   0.0506 -18.8218 0.0000 -1.0509 -0.8527\n",
              "intercept                         -2.8936   0.0410 -70.5998 0.0000 -2.9740 -2.8133\n",
              "==================================================================================\n",
              "\n",
              "\"\"\""
            ],
            "text/html": [
              "<table class=\"simpletable\">\n",
              "<tr>\n",
              "        <td>Model:</td>              <td>Logit</td>      <td>Pseudo R-squared:</td>   <td>0.388</td>  \n",
              "</tr>\n",
              "<tr>\n",
              "  <td>Dependent Variable:</td>   <td>default_flag</td>         <td>AIC:</td>        <td>6432.1183</td>\n",
              "</tr>\n",
              "<tr>\n",
              "         <td>Date:</td>        <td>2022-03-24 18:54</td>       <td>BIC:</td>        <td>6497.2787</td>\n",
              "</tr>\n",
              "<tr>\n",
              "   <td>No. Observations:</td>        <td>25465</td>       <td>Log-Likelihood:</td>   <td>-3208.1</td> \n",
              "</tr>\n",
              "<tr>\n",
              "       <td>Df Model:</td>              <td>7</td>            <td>LL-Null:</td>       <td>-5238.4</td> \n",
              "</tr>\n",
              "<tr>\n",
              "     <td>Df Residuals:</td>          <td>25457</td>        <td>LLR p-value:</td>     <td>0.0000</td>  \n",
              "</tr>\n",
              "<tr>\n",
              "      <td>Converged:</td>           <td>1.0000</td>           <td>Scale:</td>        <td>1.0000</td>  \n",
              "</tr>\n",
              "<tr>\n",
              "    <td>No. Iterations:</td>        <td>9.0000</td>              <td></td>              <td></td>     \n",
              "</tr>\n",
              "</table>\n",
              "<table class=\"simpletable\">\n",
              "<tr>\n",
              "                  <td></td>                   <th>Coef.</th>  <th>Std.Err.</th>     <th>z</th>     <th>P>|z|</th> <th>[0.025</th>  <th>0.975]</th> \n",
              "</tr>\n",
              "<tr>\n",
              "  <th>woe_max_arrears_12m</th>               <td>-0.8083</td>  <td>0.0323</td>  <td>-25.0608</td> <td>0.0000</td> <td>-0.8715</td> <td>-0.7451</td>\n",
              "</tr>\n",
              "<tr>\n",
              "  <th>woe_bureau_score</th>                  <td>-0.5285</td>  <td>0.0539</td>   <td>-9.7968</td> <td>0.0000</td> <td>-0.6342</td> <td>-0.4228</td>\n",
              "</tr>\n",
              "<tr>\n",
              "  <th>woe_cc_util</th>                       <td>-0.9413</td>  <td>0.0291</td>  <td>-32.3267</td> <td>0.0000</td> <td>-0.9984</td> <td>-0.8843</td>\n",
              "</tr>\n",
              "<tr>\n",
              "  <th>woe_num_ccj</th>                       <td>-0.0625</td>  <td>0.0822</td>   <td>-0.7597</td> <td>0.4474</td> <td>-0.2237</td> <td>0.0987</td> \n",
              "</tr>\n",
              "<tr>\n",
              "  <th>woe_emp_length</th>                    <td>-0.1420</td>  <td>0.0898</td>   <td>-1.5805</td> <td>0.1140</td> <td>-0.3181</td> <td>0.0341</td> \n",
              "</tr>\n",
              "<tr>\n",
              "  <th>woe_months_since_recent_cc_delinq</th> <td>-0.3052</td>  <td>0.0694</td>   <td>-4.4003</td> <td>0.0000</td> <td>-0.4412</td> <td>-0.1693</td>\n",
              "</tr>\n",
              "<tr>\n",
              "  <th>woe_annual_income</th>                 <td>-0.9518</td>  <td>0.0506</td>  <td>-18.8218</td> <td>0.0000</td> <td>-1.0509</td> <td>-0.8527</td>\n",
              "</tr>\n",
              "<tr>\n",
              "  <th>intercept</th>                         <td>-2.8936</td>  <td>0.0410</td>  <td>-70.5998</td> <td>0.0000</td> <td>-2.9740</td> <td>-2.8133</td>\n",
              "</tr>\n",
              "</table>"
            ]
          },
          "metadata": {},
          "execution_count": 10
        }
      ],
      "source": [
        "model_result.summary2()"
      ]
    },
    {
      "cell_type": "markdown",
      "metadata": {
        "id": "B-zPShaMRq74"
      },
      "source": [
        "В столбце таблицы $P>|z|$ можно увидеть значения p-value для каждого из коэффициентов модели. Значение p-value для теста правдоподобий можно увидеть вверху таблицы LLR p-value"
      ]
    },
    {
      "cell_type": "markdown",
      "metadata": {
        "id": "kk17y_FrRq74"
      },
      "source": [
        "### Задание: Сделайте вывод о значимости коэффициентов модели и уравнения вцелом.\n",
        "\n",
        "* Незначительная Z-оценка предполагает, что коэффициент может быть исключен из модели. Поэтому можно сделать вывод, что коэффициенты `woe_num_ccj, woe_emp_length` статистически незначимы\n",
        "\n",
        "* Уравнение тоже значимо"
      ]
    },
    {
      "cell_type": "markdown",
      "metadata": {
        "id": "HaqYt5k1Rq74"
      },
      "source": [
        "# 3. Оценка качества построенной модели"
      ]
    },
    {
      "cell_type": "markdown",
      "metadata": {
        "id": "Wy4OHXCXRq74"
      },
      "source": [
        "### Разделим выборку на тестовую и тренировочную"
      ]
    },
    {
      "cell_type": "code",
      "execution_count": null,
      "metadata": {
        "id": "PRwd1AvYRq74"
      },
      "outputs": [],
      "source": [
        "#имортируем функцию, позволяющую делить выборку на тестовую и тренировочную в случайном порядке:\n",
        "from sklearn.model_selection import train_test_split \n",
        "\n",
        "#Аргументы функции:\n",
        "# X-датафрейм независимых переменных\n",
        "# y - зависимая переменная\n",
        "# test_size - размер тестовой выборки в %\n",
        "# random_state - начальная точка генератора случайных чисел. Для воспроизведения результата необходимо указать любое число.\n",
        "\n",
        "# Результат работы функции:\n",
        "# X_train - датафрейм независимых переменных тренировочная выборка\n",
        "# X_test - датафрейм независимых переменных тестовая выборка\n",
        "# y_train - зависимая переменная тренировочная выборка\n",
        "# y_test - зависимая переменная тестовая выборка"
      ]
    },
    {
      "cell_type": "code",
      "execution_count": null,
      "metadata": {
        "id": "PI5nPqU4Rq75"
      },
      "outputs": [],
      "source": [
        "#Разделим выборку на тестовую и тренировочную\n",
        "X_train, X_test, y_train, y_test = train_test_split(data_pd.drop('default_flag', axis=1), \n",
        "                                                    data_pd['default_flag'], test_size=.3, \n",
        "                                                    random_state=2122)\n",
        "train_full = pd.concat([y_train, X_train], axis=1) # объединим независимые и зависимую пременные тренировочной выборки в общий датафрейм\n",
        "test_full = pd.concat([y_test, X_test], axis=1)# объединим независимые и зависимую пременные тестовой выборки в общий датафрейм\n"
      ]
    },
    {
      "cell_type": "markdown",
      "metadata": {
        "id": "QexJ2a5fRq75"
      },
      "source": [
        "### Проверим, насколько равномерно разделены данные с дефолтами заемщиков и без дефолтов по выборкам"
      ]
    },
    {
      "cell_type": "markdown",
      "metadata": {
        "id": "ZDF9ZbXORq75"
      },
      "source": [
        "**Цель теста** Проверить равномерность разделения данных на тестовую и тренировочную выборки\n",
        "\n",
        "**Описание теста** Расчитаем соотношения доли дефолтов в тестовой и тренировочной выборках. Если соотношение одинаковое -  данные разделены удовлетворительно"
      ]
    },
    {
      "cell_type": "code",
      "execution_count": null,
      "metadata": {
        "colab": {
          "base_uri": "https://localhost:8080/"
        },
        "id": "fYrb9CuQRq75",
        "outputId": "43a02efe-b4f4-4a3a-be77-0e766456aaf7"
      },
      "outputs": [
        {
          "output_type": "execute_result",
          "data": {
            "text/plain": [
              "0    16883\n",
              "1      942\n",
              "Name: default_flag, dtype: int64"
            ]
          },
          "metadata": {},
          "execution_count": 13
        }
      ],
      "source": [
        "# посмотрим сколько дефолтных и недефолтных наблюдений в тренировочной выборке\n",
        "# функция value_counts() считает кол-во элементов каждого уникального значения в выборке\n",
        "train_full['default_flag'].value_counts() "
      ]
    },
    {
      "cell_type": "code",
      "execution_count": null,
      "metadata": {
        "colab": {
          "base_uri": "https://localhost:8080/"
        },
        "id": "bz29uMzLRq75",
        "outputId": "5d6a03ad-0087-4b6a-df3f-59a6a767857d"
      },
      "outputs": [
        {
          "output_type": "stream",
          "name": "stdout",
          "text": [
            "Доля дефолтов в тренировочной выборке: 5.28 %\n"
          ]
        }
      ],
      "source": [
        "# Расчитаем соотношение доли дефолтов в процентах, для этого поделим кол-во дефолтов на общее кол-во наблюдений:\n",
        "w_train = (train_full['default_flag'].value_counts()[1] / train_full['default_flag'].value_counts().sum()) * 100\n",
        "# round() позволяет округлить результат. Указывая вторым аргументом \"2\" получим округление до 2го значка после запятой\n",
        "print('Доля дефолтов в тренировочной выборке:', round(w_train, 2), '%')"
      ]
    },
    {
      "cell_type": "code",
      "execution_count": null,
      "metadata": {
        "colab": {
          "base_uri": "https://localhost:8080/"
        },
        "id": "lv2gvXZaRq76",
        "outputId": "c26623b6-7600-4f86-f213-63c0669e5049"
      },
      "outputs": [
        {
          "output_type": "execute_result",
          "data": {
            "text/plain": [
              "0    7246\n",
              "1     394\n",
              "Name: default_flag, dtype: int64"
            ]
          },
          "metadata": {},
          "execution_count": 15
        }
      ],
      "source": [
        "# посмотрим сколько дефолтных и недефолтных наблюдений в тестовой выборке\n",
        "# функция value_counts() считает кол-во элементов каждого уникального значения в выборке\n",
        "test_full['default_flag'].value_counts()"
      ]
    },
    {
      "cell_type": "code",
      "execution_count": null,
      "metadata": {
        "colab": {
          "base_uri": "https://localhost:8080/"
        },
        "id": "SSx0gXu7Rq76",
        "outputId": "761674cd-0abb-4d79-90f1-515d60c81209"
      },
      "outputs": [
        {
          "output_type": "stream",
          "name": "stdout",
          "text": [
            "Доля дефолтов в тестовой выборке: 5.16 %\n"
          ]
        }
      ],
      "source": [
        "# Расчитаем соотношение доли дефолтов в процентах, для этого поделим кол-во дефолтов на общее кол-во наблюдений:\n",
        "w_test = (test_full['default_flag'].value_counts()[1] / test_full['default_flag'].value_counts().sum()) * 100\n",
        "# round() позволяет округлить результат. Указывая вторым аргументом \"2\" получим округление до 2го значка после запятой\n",
        "print('Доля дефолтов в тестовой выборке:', round(w_test, 2), '%')"
      ]
    },
    {
      "cell_type": "markdown",
      "metadata": {
        "id": "DSSbQERoRq76"
      },
      "source": [
        "### Задание: Расчитайте долю дефолтов в полной выборке"
      ]
    },
    {
      "cell_type": "code",
      "execution_count": null,
      "metadata": {
        "colab": {
          "base_uri": "https://localhost:8080/"
        },
        "id": "u_4HupNBRq76",
        "outputId": "c32e5a12-e059-40c0-82aa-833c374b3a60"
      },
      "outputs": [
        {
          "output_type": "stream",
          "name": "stdout",
          "text": [
            "Доля дефолтов в полной выборке: 5.25 %\n"
          ]
        }
      ],
      "source": [
        "w_deafolt_full = (data_pd['default_flag'].value_counts()[1] / data_pd['default_flag'].value_counts().sum()) *100\n",
        "\n",
        "print('Доля дефолтов в полной выборке:', round(w_deafolt_full, 2), '%')"
      ]
    },
    {
      "cell_type": "markdown",
      "metadata": {
        "id": "gl6dIm4YRq77"
      },
      "source": [
        "### Построим модель логистической регрессии на тренировочной выборке:"
      ]
    },
    {
      "cell_type": "code",
      "execution_count": null,
      "metadata": {
        "colab": {
          "base_uri": "https://localhost:8080/"
        },
        "id": "Us6cs9kbRq77",
        "outputId": "a1151f8f-a32f-449c-831d-691b8e47a45f"
      },
      "outputs": [
        {
          "output_type": "stream",
          "name": "stdout",
          "text": [
            "Optimization terminated successfully.\n",
            "         Current function value: 0.125932\n",
            "         Iterations 9\n",
            "                                  Results: Logit\n",
            "==================================================================================\n",
            "Model:                    Logit                  Pseudo R-squared:       0.391    \n",
            "Dependent Variable:       default_flag           AIC:                    4505.4581\n",
            "Date:                     2022-03-24 18:55       BIC:                    4567.7650\n",
            "No. Observations:         17825                  Log-Likelihood:         -2244.7  \n",
            "Df Model:                 7                      LL-Null:                -3686.5  \n",
            "Df Residuals:             17817                  LLR p-value:            0.0000   \n",
            "Converged:                1.0000                 Scale:                  1.0000   \n",
            "No. Iterations:           9.0000                                                  \n",
            "----------------------------------------------------------------------------------\n",
            "                                   Coef.  Std.Err.    z     P>|z|   [0.025  0.975]\n",
            "----------------------------------------------------------------------------------\n",
            "woe_max_arrears_12m               -0.8151   0.0387 -21.0353 0.0000 -0.8911 -0.7392\n",
            "woe_bureau_score                  -0.4990   0.0645  -7.7394 0.0000 -0.6253 -0.3726\n",
            "woe_cc_util                       -0.9333   0.0347 -26.8721 0.0000 -1.0013 -0.8652\n",
            "woe_num_ccj                       -0.1028   0.0981  -1.0475 0.2949 -0.2951  0.0895\n",
            "woe_emp_length                    -0.1614   0.1073  -1.5050 0.1323 -0.3716  0.0488\n",
            "woe_months_since_recent_cc_delinq -0.3617   0.0853  -4.2386 0.0000 -0.5289 -0.1944\n",
            "woe_annual_income                 -0.9677   0.0601 -16.0904 0.0000 -1.0856 -0.8499\n",
            "intercept                         -2.8952   0.0492 -58.8398 0.0000 -2.9916 -2.7987\n",
            "==================================================================================\n",
            "\n"
          ]
        }
      ],
      "source": [
        "X_train_sm =X_train.copy() # скопируем датафрейм не\n",
        "\n",
        "X_train_sm['intercept'] = 1 # добавим единичный столбец, чтоб оценить коэффициент пересечения\n",
        "model = sm.Logit(y_train, X_train_sm, intercept=True)  # построим модель\n",
        "model_result = model.fit() # оценка параметров модели\n",
        "print(model_result.summary2()) # выведем результаты"
      ]
    },
    {
      "cell_type": "markdown",
      "metadata": {
        "id": "wr9dPTFRRq77"
      },
      "source": [
        "## 3.1 Дискриминационная способность"
      ]
    },
    {
      "cell_type": "markdown",
      "metadata": {
        "id": "KMgavxmZRq77"
      },
      "source": [
        "### Матрица ошибок (confusion matrix) "
      ]
    },
    {
      "cell_type": "markdown",
      "metadata": {
        "id": "6octQab9Rq77"
      },
      "source": [
        "**Матрица ошибок (confusion matrix)** — это таблица, которая позволяет визуализировать эффективность алгоритма классификации путем сравнения прогнозного значения целевой переменной с ее фактическим значением. Столбцы матрицы представляют наблюдения в фактическом классе, а строки — наблюдения в прогнозируемом классе.\n"
      ]
    },
    {
      "cell_type": "code",
      "execution_count": null,
      "metadata": {
        "id": "-0fSPVePRq78"
      },
      "outputs": [],
      "source": [
        "from sklearn.metrics import confusion_matrix # функция расчета матрицы ошибок"
      ]
    },
    {
      "cell_type": "code",
      "execution_count": null,
      "metadata": {
        "colab": {
          "base_uri": "https://localhost:8080/"
        },
        "id": "nU0aCcRXRq78",
        "outputId": "49e2b0ad-3aca-45d4-a3e4-5f5b5ab942c8"
      },
      "outputs": [
        {
          "output_type": "execute_result",
          "data": {
            "text/plain": [
              "array([[7183,   63],\n",
              "       [ 281,  113]])"
            ]
          },
          "metadata": {},
          "execution_count": 20
        }
      ],
      "source": [
        "y_pred = logreg.predict(X_test) # прогноз\n",
        "confusion_matrix_logreg = confusion_matrix(y_test, y_pred) # Посчитаем матрицу ошибок\n",
        "confusion_matrix_logreg # посмотрим на матрицу ошибок"
      ]
    },
    {
      "cell_type": "code",
      "execution_count": null,
      "metadata": {
        "colab": {
          "base_uri": "https://localhost:8080/",
          "height": 295
        },
        "id": "2TQKlSieRq78",
        "outputId": "53217f28-975e-404b-c535-8eee259554d1"
      },
      "outputs": [
        {
          "output_type": "display_data",
          "data": {
            "text/plain": [
              "<Figure size 432x288 with 2 Axes>"
            ],
            "image/png": "[encoded data removed]"
          },
          "metadata": {
            "needs_background": "light"
          }
        }
      ],
      "source": [
        "from sklearn.metrics import plot_confusion_matrix # функция для визуализации матрицы ошибок\n",
        "matrix = plot_confusion_matrix(logreg, X_test, y_test, cmap=plt.cm.Blues) # нарисуем матрицу ошибок\n",
        "plt.title('Матрица ошибок для модели') # зададим название графика\n",
        "plt.show(matrix) # отобразим график\n"
      ]
    },
    {
      "cell_type": "markdown",
      "metadata": {
        "id": "PyxLEOjLRq78"
      },
      "source": [
        "### Метрики качества классификации"
      ]
    },
    {
      "cell_type": "code",
      "execution_count": null,
      "metadata": {
        "id": "53FuDFSwRq78"
      },
      "outputs": [],
      "source": [
        "from sklearn.metrics import classification_report # функция для расчета метрик качества классификации"
      ]
    },
    {
      "cell_type": "code",
      "execution_count": null,
      "metadata": {
        "id": "vvlJiah6Rq78",
        "outputId": "3b7deb40-7a85-481c-be86-b403b5afe4a5"
      },
      "outputs": [
        {
          "name": "stdout",
          "output_type": "stream",
          "text": [
            "              precision    recall  f1-score   support\n",
            "\n",
            "           0       0.96      0.99      0.98      7246\n",
            "           1       0.64      0.29      0.40       394\n",
            "\n",
            "    accuracy                           0.95      7640\n",
            "   macro avg       0.80      0.64      0.69      7640\n",
            "weighted avg       0.95      0.95      0.95      7640\n",
            "\n"
          ]
        }
      ],
      "source": [
        "print(classification_report(y_test, y_pred)) # выведем рассчитанные метрики качества"
      ]
    },
    {
      "cell_type": "markdown",
      "metadata": {
        "id": "g4gpJiG5Rq79"
      },
      "source": [
        "### ROC-кривая и AUROC"
      ]
    },
    {
      "cell_type": "code",
      "execution_count": null,
      "metadata": {
        "id": "SsSWz5SMRq79"
      },
      "outputs": [],
      "source": [
        "from sklearn.metrics import roc_auc_score # Функция для рассчета AUROC\n",
        "from sklearn.metrics import roc_curve # Функция для построения ROC-кривой"
      ]
    },
    {
      "cell_type": "code",
      "execution_count": null,
      "metadata": {
        "colab": {
          "base_uri": "https://localhost:8080/",
          "height": 295
        },
        "id": "Uv6MSVGnRq79",
        "outputId": "70ebb462-f258-4944-e0eb-0e5437a3408d"
      },
      "outputs": [
        {
          "output_type": "display_data",
          "data": {
            "text/plain": [
              "<Figure size 432x288 with 1 Axes>"
            ],
            "image/png": "[encoded data removed]"
          },
          "metadata": {
            "needs_background": "light"
          }
        }
      ],
      "source": [
        "logit_roc_auc = roc_auc_score(y_test, logreg.predict_proba(X_test)[:,1]) # Расчет AUROC. На вход подаются наблюдаемые значения тестовой выборки и прогнозные\n",
        "#logreg.predict_proba возвращает массив вероятностей принадлежности к каждому классу. Т.е. первый столбец - это вероятность того что у=0, второй - у=1\n",
        "fpr, tpr, thresholds = roc_curve(y_test, logreg.predict_proba(X_test)[:,1]) # Построение ROC- кривой\n",
        "plt.figure() # создадим график\n",
        "plt.plot(fpr, tpr, label='Logistic Regression (area = %0.2f)' % logit_roc_auc) #отобразим на графике ROC-кривую и значение AUROC\n",
        "plt.plot([0, 1], [0, 1],'r--') # отобразим на графике ROC-кривую для случайной модели\n",
        "plt.xlim([0.0, 1.0]) # ограничим отображение оси х на интервале [0,1] для удобной визуализации\n",
        "plt.ylim([0.0, 1.05])# ограничим отображение оси y на интервале [0,1.05] для удобной визуализации\n",
        "plt.xlabel('False Positive Rate') # название оси х\n",
        "plt.ylabel('True Positive Rate') # название оси y\n",
        "plt.title('ROC кривая')# название графика\n",
        "plt.legend(loc=\"lower right\") # расположение легенды\n",
        "plt.savefig('Log_ROC') # сохранить график\n",
        "plt.show(); # отобразитьграфик"
      ]
    },
    {
      "cell_type": "markdown",
      "metadata": {
        "id": "Z3U1tEnURq79"
      },
      "source": [
        "### Коэффициент Джини"
      ]
    },
    {
      "cell_type": "markdown",
      "metadata": {
        "id": "XfHV2ro7Rq79"
      },
      "source": [
        "Расчитаем коэффициент Джини:"
      ]
    },
    {
      "cell_type": "code",
      "execution_count": null,
      "metadata": {
        "colab": {
          "base_uri": "https://localhost:8080/"
        },
        "id": "nkCTl1hCRq79",
        "outputId": "702f9733-88c0-49ad-ec9f-6e49196479a0"
      },
      "outputs": [
        {
          "output_type": "stream",
          "name": "stdout",
          "text": [
            "Коэффициент Джини: 0.84\n"
          ]
        }
      ],
      "source": [
        "gini = 2 * logit_roc_auc - 1\n",
        "print('Коэффициент Джини:', round(gini,2))"
      ]
    },
    {
      "cell_type": "markdown",
      "metadata": {
        "id": "EbbJIb2TRq79"
      },
      "source": [
        "### Кросс-валидация"
      ]
    },
    {
      "cell_type": "markdown",
      "metadata": {
        "id": "xaLuHLq8Rq7-"
      },
      "source": [
        "Данные делятся на g наборов. Затем модель обучается на g -1 наборах и тестируется на оставшемся наборе. Это повторяется для всех возможных комбинаций, в результате чего получается распределение оценки производительности (например, AUC, индекс Джини).\n"
      ]
    },
    {
      "cell_type": "code",
      "execution_count": null,
      "metadata": {
        "id": "ftbH_fLfRq7-"
      },
      "outputs": [],
      "source": [
        "from sklearn.model_selection import cross_val_score # импорт функции для проведения кросс-валидации"
      ]
    },
    {
      "cell_type": "code",
      "execution_count": null,
      "metadata": {
        "colab": {
          "base_uri": "https://localhost:8080/",
          "height": 295
        },
        "id": "SOLkZM-IRq7-",
        "outputId": "bdb8b40e-6cd4-47b7-c0ce-42e12f26ddeb"
      },
      "outputs": [
        {
          "output_type": "display_data",
          "data": {
            "text/plain": [
              "<Figure size 432x288 with 1 Axes>"
            ],
            "image/png": "[encoded data removed]"
          },
          "metadata": {
            "needs_background": "light"
          }
        }
      ],
      "source": [
        "scores = cross_val_score(logreg, X_test, y_test, cv=20, scoring='roc_auc') # вызов функции, в качестве аргументов предеются:\n",
        "#logreg - построенная модель\n",
        "#X_test - тестовая выборка независимых переменных \n",
        "#y_test - тестовые значения зависимых переменных\n",
        "#cv - количество наборов g\n",
        "#scoring - метрика, которая рассчитывается для каждой полученной модели\n",
        "\n",
        "plt.figure() # создадим график\n",
        "plt.hist(scores) # нарисуем гистограмму полученных значений AUROC\n",
        "plt.xlabel('AUC') # название оси х\n",
        "plt.ylabel('Frequency')# название оси у\n",
        "plt.title('AUC Distribution: 20 Folds') # название графика\n",
        "plt.show();# отображение графика"
      ]
    },
    {
      "cell_type": "markdown",
      "metadata": {
        "id": "u1ddSKaNRq7-"
      },
      "source": [
        "Распределение полученных значений AUC представлено на гистограмме"
      ]
    },
    {
      "cell_type": "markdown",
      "metadata": {
        "id": "kftKcQXCRq7-"
      },
      "source": [
        "## Сводные результаты"
      ]
    },
    {
      "cell_type": "markdown",
      "metadata": {
        "id": "JGBWTChVRq7-"
      },
      "source": [
        "![image.png](attachment:image.png)"
      ]
    },
    {
      "cell_type": "markdown",
      "metadata": {
        "id": "ds25XfCMRq7-"
      },
      "source": [
        "## Задание"
      ]
    },
    {
      "cell_type": "markdown",
      "metadata": {
        "id": "elD7q40rRq7_"
      },
      "source": [
        "1. Изучите пошаговую процедуру построения модели логистической регрессии при помощи двух разных библиотек, показанную в рабочей книге Python Notebook «2. Построение модели».\n",
        "2. Изучите реализацию оценки качества модели. Сделайте выводы о качестве построенной модели.\n",
        "\n",
        "3.\tПостройте модель логистической регрессии, используя только значимые по тесту Вальда переменные. Оцените качество получившийся модели.\n",
        "\n",
        "4.\tСравните ключевые метрики качества для полученной модели и модели, представленной в рабочей книге Python Notebook «2. Построение модели». Какую модель следует выбрать?"
      ]
    },
    {
      "cell_type": "code",
      "execution_count": null,
      "metadata": {
        "colab": {
          "base_uri": "https://localhost:8080/"
        },
        "id": "eh3l6SIURq7_",
        "outputId": "9fd72d15-e673-4bca-b621-d05e56ad617f"
      },
      "outputs": [
        {
          "output_type": "stream",
          "name": "stdout",
          "text": [
            "Коэффициенты модели: [[-0.81251188 -0.54081145 -0.94173843 -0.30524816 -0.995083  ]]\n",
            "Пересечение: [-2.8942799]\n"
          ]
        }
      ],
      "source": [
        "\n",
        "df_new = data_pd.drop(['woe_num_ccj', 'woe_emp_length'], axis=1) # Удалим статически незначимые параметры из датасета\n",
        "\n",
        "X_new = df_new.drop('default_flag', axis=1).copy() # сформируем датафрейм независимых переменных путем копирования исходного датафрейма с удаленным столбцом \"default_flag\"\n",
        "y_new = df_new['default_flag'].copy() #зависимая переменная\n",
        "\n",
        "logreg = LogisticRegression(C=1e9, fit_intercept=True) # построим модель логистической регрессии\n",
        "logreg.fit(X_new, y_new) #оценка параметров модели\n",
        "\n",
        "# Выведем коэффициенты модели и пересечение\n",
        "print('Коэффициенты модели:', logreg.coef_)\n",
        "print('Пересечение:', logreg.intercept_)"
      ]
    },
    {
      "cell_type": "markdown",
      "metadata": {
        "id": "pjfN4bd5Rq7_"
      },
      "source": [
        "# 3. Оценка качества построенной модели без незначимых параметров"
      ]
    },
    {
      "cell_type": "code",
      "execution_count": null,
      "metadata": {
        "id": "wzrPlJWjRq7_"
      },
      "outputs": [],
      "source": [
        "#Разделим выборку на тестовую и тренировочную\n",
        "X_train_new, X_test_new, y_train_new, y_test_new = train_test_split(df_new.drop('default_flag', axis=1), \n",
        "                                                    df_new['default_flag'], test_size=.3, \n",
        "                                                    random_state=2122)\n",
        "train_full_new = pd.concat([y_train_new, X_train_new], axis=1) # объединим независимые и зависимую пременные тренировочной выборки в общий датафрейм\n",
        "test_full_new = pd.concat([y_test_new, X_test_new], axis=1)# объединим независимые и зависимую пременные тестовой выборки в общий датафрейм"
      ]
    },
    {
      "cell_type": "markdown",
      "metadata": {
        "id": "9EICbXsTRq7_"
      },
      "source": [
        "## Проверим, насколько равномерно разделены данные с дефолтами заемщиков и без дефолтов по выборкам"
      ]
    },
    {
      "cell_type": "code",
      "execution_count": null,
      "metadata": {
        "colab": {
          "base_uri": "https://localhost:8080/"
        },
        "id": "BDJpm01XRq7_",
        "outputId": "a7536ed3-ddae-40f6-ef4b-7dbf0f5affc7"
      },
      "outputs": [
        {
          "output_type": "execute_result",
          "data": {
            "text/plain": [
              "0    16883\n",
              "1      942\n",
              "Name: default_flag, dtype: int64"
            ]
          },
          "metadata": {},
          "execution_count": 31
        }
      ],
      "source": [
        "# посмотрим сколько дефолтных и недефолтных наблюдений в тренировочной выборке\n",
        "# функция value_counts() считает кол-во элементов каждого уникального значения в выборке\n",
        "train_full_new['default_flag'].value_counts() "
      ]
    },
    {
      "cell_type": "code",
      "execution_count": null,
      "metadata": {
        "colab": {
          "base_uri": "https://localhost:8080/"
        },
        "id": "Fma6SXkFRq8A",
        "outputId": "2a3bf65a-936d-4774-a195-7f2b5235d2b6"
      },
      "outputs": [
        {
          "output_type": "stream",
          "name": "stdout",
          "text": [
            "Доля дефолтов в тренировочной выборке: 5.28 %\n"
          ]
        }
      ],
      "source": [
        "# Расчитаем соотношение доли дефолтов в процентах, для этого поделим кол-во дефолтов на общее кол-во наблюдений:\n",
        "w_train_new = (train_full_new['default_flag'].value_counts()[1] / train_full['default_flag'].value_counts().sum()) * 100\n",
        "# round() позволяет округлить результат. Указывая вторым аргументом \"2\" получим округление до 2го значка после запятой\n",
        "print('Доля дефолтов в тренировочной выборке:', round(w_train_new, 2), '%')"
      ]
    },
    {
      "cell_type": "code",
      "execution_count": null,
      "metadata": {
        "colab": {
          "base_uri": "https://localhost:8080/"
        },
        "id": "KoFDJ3FZRq8A",
        "outputId": "d6f05959-4f34-4a22-869a-49f72f5d8163"
      },
      "outputs": [
        {
          "output_type": "execute_result",
          "data": {
            "text/plain": [
              "0    7246\n",
              "1     394\n",
              "Name: default_flag, dtype: int64"
            ]
          },
          "metadata": {},
          "execution_count": 33
        }
      ],
      "source": [
        "# посмотрим сколько дефолтных и недефолтных наблюдений в тестовой выборке\n",
        "# функция value_counts() считает кол-во элементов каждого уникального значения в выборке\n",
        "test_full_new['default_flag'].value_counts()"
      ]
    },
    {
      "cell_type": "code",
      "execution_count": null,
      "metadata": {
        "colab": {
          "base_uri": "https://localhost:8080/"
        },
        "id": "2L9ahoP-Rq8A",
        "outputId": "1c618881-cef7-46f9-88ad-2b7e5ad99394"
      },
      "outputs": [
        {
          "output_type": "stream",
          "name": "stdout",
          "text": [
            "Доля дефолтов в тестовой выборке: 5.16 %\n"
          ]
        }
      ],
      "source": [
        "# Расчитаем соотношение доли дефолтов в процентах, для этого поделим кол-во дефолтов на общее кол-во наблюдений:\n",
        "w_test_new = (test_full_new['default_flag'].value_counts()[1] / test_full_new['default_flag'].value_counts().sum()) * 100\n",
        "# round() позволяет округлить результат. Указывая вторым аргументом \"2\" получим округление до 2го значка после запятой\n",
        "print('Доля дефолтов в тестовой выборке:', round(w_test_new, 2), '%')"
      ]
    },
    {
      "cell_type": "code",
      "execution_count": null,
      "metadata": {
        "colab": {
          "base_uri": "https://localhost:8080/"
        },
        "id": "3Lpn_uZjRq8A",
        "outputId": "eb130c02-2302-4df0-efc2-a17a0ec35936"
      },
      "outputs": [
        {
          "output_type": "execute_result",
          "data": {
            "text/plain": [
              "array([[7186,   60],\n",
              "       [ 283,  111]])"
            ]
          },
          "metadata": {},
          "execution_count": 35
        }
      ],
      "source": [
        "y_pred_new = logreg.predict(X_test_new) \n",
        "\n",
        "confusion_matrix_logreg = confusion_matrix(y_test_new, y_pred_new) # Посчитаем матрицу ошибок\n",
        "confusion_matrix_logreg # посмотрим на матрицу ошибок"
      ]
    },
    {
      "cell_type": "code",
      "execution_count": null,
      "metadata": {
        "colab": {
          "base_uri": "https://localhost:8080/",
          "height": 295
        },
        "id": "_HAjCDA7Rq8A",
        "outputId": "75836db4-3802-41e7-b87c-ae8cc2e26612"
      },
      "outputs": [
        {
          "output_type": "display_data",
          "data": {
            "text/plain": [
              "<Figure size 432x288 with 2 Axes>"
            ],
            "image/png": "[encoded data removed]"
          },
          "metadata": {
            "needs_background": "light"
          }
        }
      ],
      "source": [
        "matrix = plot_confusion_matrix(logreg, X_test_new, y_test_new, cmap=plt.cm.Blues) # нарисуем матрицу ошибок\n",
        "plt.title('Матрица ошибок для новой модели') \n",
        "plt.show(matrix) "
      ]
    },
    {
      "cell_type": "code",
      "execution_count": null,
      "metadata": {
        "colab": {
          "base_uri": "https://localhost:8080/"
        },
        "id": "WLjksN35Rq8A",
        "outputId": "204aa6fd-b4dd-470c-fca6-69c7754b71a1"
      },
      "outputs": [
        {
          "output_type": "stream",
          "name": "stdout",
          "text": [
            "              precision    recall  f1-score   support\n",
            "\n",
            "           0       0.96      0.99      0.98      7246\n",
            "           1       0.65      0.28      0.39       394\n",
            "\n",
            "    accuracy                           0.96      7640\n",
            "   macro avg       0.81      0.64      0.68      7640\n",
            "weighted avg       0.95      0.96      0.95      7640\n",
            "\n"
          ]
        }
      ],
      "source": [
        "print(classification_report(y_test_new, y_pred_new)) # выведем рассчитанные метрики качества"
      ]
    },
    {
      "cell_type": "markdown",
      "metadata": {
        "id": "kSOGPn4CRq8B"
      },
      "source": [
        "Если сравнивать две выборки без статистических неважных данных по тесту Вальда и с ними. \n",
        "То у новой выборки точность выше. 0.65 против 0.64"
      ]
    },
    {
      "cell_type": "code",
      "execution_count": null,
      "metadata": {
        "colab": {
          "base_uri": "https://localhost:8080/",
          "height": 295
        },
        "id": "dRyF6pdZRq8B",
        "outputId": "3c7f6b48-f25a-43ac-d28e-fa1a1145cb27"
      },
      "outputs": [
        {
          "output_type": "display_data",
          "data": {
            "text/plain": [
              "<Figure size 432x288 with 1 Axes>"
            ],
            "image/png": "[encoded data removed]"
          },
          "metadata": {
            "needs_background": "light"
          }
        }
      ],
      "source": [
        "logit_roc_auc_new = roc_auc_score(y_test_new, logreg.predict_proba(X_test_new)[:,1]) # Расчет AUROC. На вход подаются наблюдаемые значения тестовой выборки и прогнозные\n",
        "#logreg.predict_proba возвращает массив вероятностей принадлежности к каждому классу. Т.е. первый столбец - это вероятность того что у=0, второй - у=1\n",
        "fpr, tpr, thresholds = roc_curve(y_test_new, logreg.predict_proba(X_test_new)[:,1]) # Построение ROC- кривой\n",
        "plt.figure() # создадим график\n",
        "plt.plot(fpr, tpr, label='Logistic Regression (area = %0.2f)' % logit_roc_auc) #отобразим на графике ROC-кривую и значение AUROC\n",
        "plt.plot([0, 1], [0, 1],'r--') # отобразим на графике ROC-кривую для случайной модели\n",
        "plt.xlim([0.0, 1.0]) # ограничим отображение оси х на интервале [0,1] для удобной визуализации\n",
        "plt.ylim([0.0, 1.05])# ограничим отображение оси y на интервале [0,1.05] для удобной визуализации\n",
        "plt.xlabel('False Positive Rate') # название оси х\n",
        "plt.ylabel('True Positive Rate') # название оси y\n",
        "plt.title('ROC кривая')# название графика\n",
        "plt.legend(loc=\"lower right\") # расположение легенды\n",
        "plt.savefig('Log_ROC') # сохранить график\n",
        "plt.show(); # отобразить график"
      ]
    },
    {
      "cell_type": "code",
      "execution_count": null,
      "metadata": {
        "colab": {
          "base_uri": "https://localhost:8080/"
        },
        "id": "XFgyk8R2Rq8B",
        "outputId": "6535e2f6-8587-49a9-a07e-6cef58c96582"
      },
      "outputs": [
        {
          "output_type": "stream",
          "name": "stdout",
          "text": [
            "Коэффициент Джини: 0.84\n"
          ]
        }
      ],
      "source": [
        "gini_new = 2 * logit_roc_auc_new - 1\n",
        "print('Коэффициент Джини:', round(gini_new,2))"
      ]
    },
    {
      "cell_type": "code",
      "execution_count": null,
      "metadata": {
        "colab": {
          "base_uri": "https://localhost:8080/",
          "height": 295
        },
        "id": "1SGydQbCRq8B",
        "outputId": "fc138b5c-9624-4520-a93b-79c0a69b6900"
      },
      "outputs": [
        {
          "output_type": "display_data",
          "data": {
            "text/plain": [
              "<Figure size 432x288 with 1 Axes>"
            ],
            "image/png": "[encoded data removed]"
          },
          "metadata": {
            "needs_background": "light"
          }
        }
      ],
      "source": [
        "scores = cross_val_score(logreg, X_test_new, y_test_new, cv=20, scoring='roc_auc') # вызов функции, в качестве аргументов предеются:\n",
        "#logreg - построенная модель\n",
        "#X_test - тестовая выборка независимых переменных \n",
        "#y_test - тестовые значения зависимых переменных\n",
        "#cv - количество наборов g\n",
        "#scoring - метрика, которая рассчитывается для каждой полученной модели\n",
        "\n",
        "plt.figure() # создадим график\n",
        "plt.hist(scores) # нарисуем гистограмму полученных значений AUROC\n",
        "plt.xlabel('AUC') # название оси х\n",
        "plt.ylabel('Frequency')# название оси у\n",
        "plt.title('AUC Distribution: 20 Folds') # название графика\n",
        "plt.show();# отображение графика"
      ]
    },
    {
      "cell_type": "code",
      "execution_count": null,
      "metadata": {
        "id": "PLVfCIK4Rq8B"
      },
      "outputs": [],
      "source": []
    }
  ],
  "metadata": {
    "kernelspec": {
      "display_name": "Python 3 (ipykernel)",
      "language": "python",
      "name": "python3"
    },
    "language_info": {
      "codemirror_mode": {
        "name": "ipython",
        "version": 3
      },
      "file_extension": ".py",
      "mimetype": "text/x-python",
      "name": "python",
      "nbconvert_exporter": "python",
      "pygments_lexer": "ipython3",
      "version": "3.7.1"
    },
    "colab": {
      "provenance": []
    }
  },
  "nbformat": 4,
  "nbformat_minor": 0
}